{
 "cells": [
  {
   "cell_type": "code",
   "execution_count": 1,
   "id": "2aca7cfd-bb23-4c49-a683-6fb667742d5c",
   "metadata": {
    "tags": []
   },
   "outputs": [
    {
     "data": {
      "text/html": [
       "<div>\n",
       "<style scoped>\n",
       "    .dataframe tbody tr th:only-of-type {\n",
       "        vertical-align: middle;\n",
       "    }\n",
       "\n",
       "    .dataframe tbody tr th {\n",
       "        vertical-align: top;\n",
       "    }\n",
       "\n",
       "    .dataframe thead th {\n",
       "        text-align: right;\n",
       "    }\n",
       "</style>\n",
       "<table border=\"1\" class=\"dataframe\">\n",
       "  <thead>\n",
       "    <tr style=\"text-align: right;\">\n",
       "      <th></th>\n",
       "      <th>Position</th>\n",
       "      <th>Nationality</th>\n",
       "      <th>Team</th>\n",
       "      <th>Points</th>\n",
       "      <th>Year</th>\n",
       "      <th>Driver_ID</th>\n",
       "      <th>Driver</th>\n",
       "    </tr>\n",
       "  </thead>\n",
       "  <tbody>\n",
       "    <tr>\n",
       "      <th>0</th>\n",
       "      <td>1</td>\n",
       "      <td>ITA</td>\n",
       "      <td>Alfa Romeo</td>\n",
       "      <td>30.0</td>\n",
       "      <td>1950</td>\n",
       "      <td>FAR</td>\n",
       "      <td>Nino Farina</td>\n",
       "    </tr>\n",
       "    <tr>\n",
       "      <th>1</th>\n",
       "      <td>2</td>\n",
       "      <td>ARG</td>\n",
       "      <td>Alfa Romeo</td>\n",
       "      <td>27.0</td>\n",
       "      <td>1950</td>\n",
       "      <td>FAN</td>\n",
       "      <td>Juan Manuel Fangio</td>\n",
       "    </tr>\n",
       "    <tr>\n",
       "      <th>2</th>\n",
       "      <td>3</td>\n",
       "      <td>ITA</td>\n",
       "      <td>Alfa Romeo</td>\n",
       "      <td>24.0</td>\n",
       "      <td>1950</td>\n",
       "      <td>FAG</td>\n",
       "      <td>Luigi Fagioli</td>\n",
       "    </tr>\n",
       "    <tr>\n",
       "      <th>3</th>\n",
       "      <td>4</td>\n",
       "      <td>FRA</td>\n",
       "      <td>Talbot-Lago</td>\n",
       "      <td>13.0</td>\n",
       "      <td>1950</td>\n",
       "      <td>ROS</td>\n",
       "      <td>Louis Rosier</td>\n",
       "    </tr>\n",
       "    <tr>\n",
       "      <th>4</th>\n",
       "      <td>5</td>\n",
       "      <td>ITA</td>\n",
       "      <td>Ferrari</td>\n",
       "      <td>11.0</td>\n",
       "      <td>1950</td>\n",
       "      <td>ASC</td>\n",
       "      <td>Alberto Ascari</td>\n",
       "    </tr>\n",
       "    <tr>\n",
       "      <th>...</th>\n",
       "      <td>...</td>\n",
       "      <td>...</td>\n",
       "      <td>...</td>\n",
       "      <td>...</td>\n",
       "      <td>...</td>\n",
       "      <td>...</td>\n",
       "      <td>...</td>\n",
       "    </tr>\n",
       "    <tr>\n",
       "      <th>1568</th>\n",
       "      <td>17</td>\n",
       "      <td>DEN</td>\n",
       "      <td>Haas Ferrari</td>\n",
       "      <td>1.0</td>\n",
       "      <td>2020</td>\n",
       "      <td>MAG</td>\n",
       "      <td>Kevin Magnussen</td>\n",
       "    </tr>\n",
       "    <tr>\n",
       "      <th>1569</th>\n",
       "      <td>18</td>\n",
       "      <td>FIN</td>\n",
       "      <td>Alfa Romeo Racing Ferrari</td>\n",
       "      <td>0.0</td>\n",
       "      <td>2020</td>\n",
       "      <td>RAI</td>\n",
       "      <td>Kimi Räikkönen</td>\n",
       "    </tr>\n",
       "    <tr>\n",
       "      <th>1570</th>\n",
       "      <td>19</td>\n",
       "      <td>CAN</td>\n",
       "      <td>Williams Mercedes</td>\n",
       "      <td>0.0</td>\n",
       "      <td>2020</td>\n",
       "      <td>LAT</td>\n",
       "      <td>Nicholas Latifi</td>\n",
       "    </tr>\n",
       "    <tr>\n",
       "      <th>1571</th>\n",
       "      <td>20</td>\n",
       "      <td>GBR</td>\n",
       "      <td>Williams Mercedes</td>\n",
       "      <td>0.0</td>\n",
       "      <td>2020</td>\n",
       "      <td>RUS</td>\n",
       "      <td>George Russell</td>\n",
       "    </tr>\n",
       "    <tr>\n",
       "      <th>1572</th>\n",
       "      <td>21</td>\n",
       "      <td>FRA</td>\n",
       "      <td>Haas Ferrari</td>\n",
       "      <td>0.0</td>\n",
       "      <td>2020</td>\n",
       "      <td>GRO</td>\n",
       "      <td>Romain Grosjean</td>\n",
       "    </tr>\n",
       "  </tbody>\n",
       "</table>\n",
       "<p>1573 rows × 7 columns</p>\n",
       "</div>"
      ],
      "text/plain": [
       "     Position Nationality                       Team  Points  Year Driver_ID  \\\n",
       "0           1         ITA                 Alfa Romeo    30.0  1950       FAR   \n",
       "1           2         ARG                 Alfa Romeo    27.0  1950       FAN   \n",
       "2           3         ITA                 Alfa Romeo    24.0  1950       FAG   \n",
       "3           4         FRA                Talbot-Lago    13.0  1950       ROS   \n",
       "4           5         ITA                    Ferrari    11.0  1950       ASC   \n",
       "...       ...         ...                        ...     ...   ...       ...   \n",
       "1568       17         DEN               Haas Ferrari     1.0  2020       MAG   \n",
       "1569       18         FIN  Alfa Romeo Racing Ferrari     0.0  2020       RAI   \n",
       "1570       19         CAN          Williams Mercedes     0.0  2020       LAT   \n",
       "1571       20         GBR          Williams Mercedes     0.0  2020       RUS   \n",
       "1572       21         FRA               Haas Ferrari     0.0  2020       GRO   \n",
       "\n",
       "                   Driver  \n",
       "0            Nino Farina   \n",
       "1     Juan Manuel Fangio   \n",
       "2          Luigi Fagioli   \n",
       "3           Louis Rosier   \n",
       "4         Alberto Ascari   \n",
       "...                   ...  \n",
       "1568     Kevin Magnussen   \n",
       "1569      Kimi Räikkönen   \n",
       "1570     Nicholas Latifi   \n",
       "1571      George Russell   \n",
       "1572     Romain Grosjean   \n",
       "\n",
       "[1573 rows x 7 columns]"
      ]
     },
     "execution_count": 1,
     "metadata": {},
     "output_type": "execute_result"
    }
   ],
   "source": [
    "from project_functions1 import load_and_process\n",
    "dfKennedy = load_and_process(\"../f1data.csv\")\n",
    "dfKennedy"
   ]
  },
  {
   "cell_type": "code",
   "execution_count": 2,
   "id": "ddaae7eb-0b9a-4213-8ed4-3f7842545e19",
   "metadata": {
    "tags": []
   },
   "outputs": [
    {
     "data": {
      "text/html": [
       "<div>\n",
       "<style scoped>\n",
       "    .dataframe tbody tr th:only-of-type {\n",
       "        vertical-align: middle;\n",
       "    }\n",
       "\n",
       "    .dataframe tbody tr th {\n",
       "        vertical-align: top;\n",
       "    }\n",
       "\n",
       "    .dataframe thead th {\n",
       "        text-align: right;\n",
       "    }\n",
       "</style>\n",
       "<table border=\"1\" class=\"dataframe\">\n",
       "  <thead>\n",
       "    <tr style=\"text-align: right;\">\n",
       "      <th></th>\n",
       "      <th>Driver</th>\n",
       "      <th>Driver_ID</th>\n",
       "      <th>Team</th>\n",
       "      <th>Nationality</th>\n",
       "      <th>PTS</th>\n",
       "      <th>Position</th>\n",
       "      <th>Year</th>\n",
       "    </tr>\n",
       "  </thead>\n",
       "  <tbody>\n",
       "    <tr>\n",
       "      <th>0</th>\n",
       "      <td>Nino Farina</td>\n",
       "      <td>FAR</td>\n",
       "      <td>Alfa Romeo</td>\n",
       "      <td>ITA</td>\n",
       "      <td>30.0</td>\n",
       "      <td>1</td>\n",
       "      <td>1950</td>\n",
       "    </tr>\n",
       "    <tr>\n",
       "      <th>1</th>\n",
       "      <td>Juan Manuel Fangio</td>\n",
       "      <td>FAN</td>\n",
       "      <td>Alfa Romeo</td>\n",
       "      <td>ARG</td>\n",
       "      <td>27.0</td>\n",
       "      <td>2</td>\n",
       "      <td>1950</td>\n",
       "    </tr>\n",
       "    <tr>\n",
       "      <th>2</th>\n",
       "      <td>Luigi Fagioli</td>\n",
       "      <td>FAG</td>\n",
       "      <td>Alfa Romeo</td>\n",
       "      <td>ITA</td>\n",
       "      <td>24.0</td>\n",
       "      <td>3</td>\n",
       "      <td>1950</td>\n",
       "    </tr>\n",
       "    <tr>\n",
       "      <th>3</th>\n",
       "      <td>Louis Rosier</td>\n",
       "      <td>ROS</td>\n",
       "      <td>Talbot-Lago</td>\n",
       "      <td>FRA</td>\n",
       "      <td>13.0</td>\n",
       "      <td>4</td>\n",
       "      <td>1950</td>\n",
       "    </tr>\n",
       "    <tr>\n",
       "      <th>4</th>\n",
       "      <td>Alberto Ascari</td>\n",
       "      <td>ASC</td>\n",
       "      <td>Ferrari</td>\n",
       "      <td>ITA</td>\n",
       "      <td>11.0</td>\n",
       "      <td>5</td>\n",
       "      <td>1950</td>\n",
       "    </tr>\n",
       "    <tr>\n",
       "      <th>...</th>\n",
       "      <td>...</td>\n",
       "      <td>...</td>\n",
       "      <td>...</td>\n",
       "      <td>...</td>\n",
       "      <td>...</td>\n",
       "      <td>...</td>\n",
       "      <td>...</td>\n",
       "    </tr>\n",
       "    <tr>\n",
       "      <th>1568</th>\n",
       "      <td>Kevin Magnussen</td>\n",
       "      <td>MAG</td>\n",
       "      <td>Haas Ferrari</td>\n",
       "      <td>DEN</td>\n",
       "      <td>1.0</td>\n",
       "      <td>17</td>\n",
       "      <td>2020</td>\n",
       "    </tr>\n",
       "    <tr>\n",
       "      <th>1569</th>\n",
       "      <td>Kimi Räikkönen</td>\n",
       "      <td>RAI</td>\n",
       "      <td>Alfa Romeo Racing Ferrari</td>\n",
       "      <td>FIN</td>\n",
       "      <td>0.0</td>\n",
       "      <td>18</td>\n",
       "      <td>2020</td>\n",
       "    </tr>\n",
       "    <tr>\n",
       "      <th>1570</th>\n",
       "      <td>Nicholas Latifi</td>\n",
       "      <td>LAT</td>\n",
       "      <td>Williams Mercedes</td>\n",
       "      <td>CAN</td>\n",
       "      <td>0.0</td>\n",
       "      <td>19</td>\n",
       "      <td>2020</td>\n",
       "    </tr>\n",
       "    <tr>\n",
       "      <th>1571</th>\n",
       "      <td>George Russell</td>\n",
       "      <td>RUS</td>\n",
       "      <td>Williams Mercedes</td>\n",
       "      <td>GBR</td>\n",
       "      <td>0.0</td>\n",
       "      <td>20</td>\n",
       "      <td>2020</td>\n",
       "    </tr>\n",
       "    <tr>\n",
       "      <th>1572</th>\n",
       "      <td>Romain Grosjean</td>\n",
       "      <td>GRO</td>\n",
       "      <td>Haas Ferrari</td>\n",
       "      <td>FRA</td>\n",
       "      <td>0.0</td>\n",
       "      <td>21</td>\n",
       "      <td>2020</td>\n",
       "    </tr>\n",
       "  </tbody>\n",
       "</table>\n",
       "<p>1573 rows × 7 columns</p>\n",
       "</div>"
      ],
      "text/plain": [
       "                   Driver Driver_ID                       Team Nationality  \\\n",
       "0            Nino Farina        FAR                 Alfa Romeo         ITA   \n",
       "1     Juan Manuel Fangio        FAN                 Alfa Romeo         ARG   \n",
       "2          Luigi Fagioli        FAG                 Alfa Romeo         ITA   \n",
       "3           Louis Rosier        ROS                Talbot-Lago         FRA   \n",
       "4         Alberto Ascari        ASC                    Ferrari         ITA   \n",
       "...                   ...       ...                        ...         ...   \n",
       "1568     Kevin Magnussen        MAG               Haas Ferrari         DEN   \n",
       "1569      Kimi Räikkönen        RAI  Alfa Romeo Racing Ferrari         FIN   \n",
       "1570     Nicholas Latifi        LAT          Williams Mercedes         CAN   \n",
       "1571      George Russell        RUS          Williams Mercedes         GBR   \n",
       "1572     Romain Grosjean        GRO               Haas Ferrari         FRA   \n",
       "\n",
       "       PTS Position  Year  \n",
       "0     30.0        1  1950  \n",
       "1     27.0        2  1950  \n",
       "2     24.0        3  1950  \n",
       "3     13.0        4  1950  \n",
       "4     11.0        5  1950  \n",
       "...    ...      ...   ...  \n",
       "1568   1.0       17  2020  \n",
       "1569   0.0       18  2020  \n",
       "1570   0.0       19  2020  \n",
       "1571   0.0       20  2020  \n",
       "1572   0.0       21  2020  \n",
       "\n",
       "[1573 rows x 7 columns]"
      ]
     },
     "execution_count": 2,
     "metadata": {},
     "output_type": "execute_result"
    }
   ],
   "source": [
    "from project_functions2 import load_and_process\n",
    "dfJordan = load_and_process(\"../f1data.csv\")\n",
    "dfJordan"
   ]
  },
  {
   "cell_type": "code",
   "execution_count": 3,
   "id": "2e2b2d07-695b-40c3-b918-84a00c8915cf",
   "metadata": {
    "tags": []
   },
   "outputs": [
    {
     "data": {
      "text/html": [
       "<div>\n",
       "<style scoped>\n",
       "    .dataframe tbody tr th:only-of-type {\n",
       "        vertical-align: middle;\n",
       "    }\n",
       "\n",
       "    .dataframe tbody tr th {\n",
       "        vertical-align: top;\n",
       "    }\n",
       "\n",
       "    .dataframe thead th {\n",
       "        text-align: right;\n",
       "    }\n",
       "</style>\n",
       "<table border=\"1\" class=\"dataframe\">\n",
       "  <thead>\n",
       "    <tr style=\"text-align: right;\">\n",
       "      <th></th>\n",
       "      <th>Driver</th>\n",
       "      <th>Driver_ID</th>\n",
       "      <th>Team</th>\n",
       "      <th>Nationality</th>\n",
       "      <th>PTS</th>\n",
       "      <th>Position</th>\n",
       "      <th>Year</th>\n",
       "    </tr>\n",
       "  </thead>\n",
       "  <tbody>\n",
       "    <tr>\n",
       "      <th>0</th>\n",
       "      <td>Nino Farina</td>\n",
       "      <td>FAR</td>\n",
       "      <td>Alfa Romeo</td>\n",
       "      <td>ITA</td>\n",
       "      <td>30.0</td>\n",
       "      <td>1</td>\n",
       "      <td>1950</td>\n",
       "    </tr>\n",
       "    <tr>\n",
       "      <th>1</th>\n",
       "      <td>Juan Manuel Fangio</td>\n",
       "      <td>FAN</td>\n",
       "      <td>Alfa Romeo</td>\n",
       "      <td>ARG</td>\n",
       "      <td>27.0</td>\n",
       "      <td>2</td>\n",
       "      <td>1950</td>\n",
       "    </tr>\n",
       "    <tr>\n",
       "      <th>2</th>\n",
       "      <td>Luigi Fagioli</td>\n",
       "      <td>FAG</td>\n",
       "      <td>Alfa Romeo</td>\n",
       "      <td>ITA</td>\n",
       "      <td>24.0</td>\n",
       "      <td>3</td>\n",
       "      <td>1950</td>\n",
       "    </tr>\n",
       "    <tr>\n",
       "      <th>3</th>\n",
       "      <td>Louis Rosier</td>\n",
       "      <td>ROS</td>\n",
       "      <td>Talbot-Lago</td>\n",
       "      <td>FRA</td>\n",
       "      <td>13.0</td>\n",
       "      <td>4</td>\n",
       "      <td>1950</td>\n",
       "    </tr>\n",
       "    <tr>\n",
       "      <th>4</th>\n",
       "      <td>Alberto Ascari</td>\n",
       "      <td>ASC</td>\n",
       "      <td>Ferrari</td>\n",
       "      <td>ITA</td>\n",
       "      <td>11.0</td>\n",
       "      <td>5</td>\n",
       "      <td>1950</td>\n",
       "    </tr>\n",
       "    <tr>\n",
       "      <th>...</th>\n",
       "      <td>...</td>\n",
       "      <td>...</td>\n",
       "      <td>...</td>\n",
       "      <td>...</td>\n",
       "      <td>...</td>\n",
       "      <td>...</td>\n",
       "      <td>...</td>\n",
       "    </tr>\n",
       "    <tr>\n",
       "      <th>1568</th>\n",
       "      <td>Kevin Magnussen</td>\n",
       "      <td>MAG</td>\n",
       "      <td>Haas Ferrari</td>\n",
       "      <td>DEN</td>\n",
       "      <td>1.0</td>\n",
       "      <td>17</td>\n",
       "      <td>2020</td>\n",
       "    </tr>\n",
       "    <tr>\n",
       "      <th>1569</th>\n",
       "      <td>Kimi Räikkönen</td>\n",
       "      <td>RAI</td>\n",
       "      <td>Alfa Romeo Racing Ferrari</td>\n",
       "      <td>FIN</td>\n",
       "      <td>0.0</td>\n",
       "      <td>18</td>\n",
       "      <td>2020</td>\n",
       "    </tr>\n",
       "    <tr>\n",
       "      <th>1570</th>\n",
       "      <td>Nicholas Latifi</td>\n",
       "      <td>LAT</td>\n",
       "      <td>Williams Mercedes</td>\n",
       "      <td>CAN</td>\n",
       "      <td>0.0</td>\n",
       "      <td>19</td>\n",
       "      <td>2020</td>\n",
       "    </tr>\n",
       "    <tr>\n",
       "      <th>1571</th>\n",
       "      <td>George Russell</td>\n",
       "      <td>RUS</td>\n",
       "      <td>Williams Mercedes</td>\n",
       "      <td>GBR</td>\n",
       "      <td>0.0</td>\n",
       "      <td>20</td>\n",
       "      <td>2020</td>\n",
       "    </tr>\n",
       "    <tr>\n",
       "      <th>1572</th>\n",
       "      <td>Romain Grosjean</td>\n",
       "      <td>GRO</td>\n",
       "      <td>Haas Ferrari</td>\n",
       "      <td>FRA</td>\n",
       "      <td>0.0</td>\n",
       "      <td>21</td>\n",
       "      <td>2020</td>\n",
       "    </tr>\n",
       "  </tbody>\n",
       "</table>\n",
       "<p>1573 rows × 7 columns</p>\n",
       "</div>"
      ],
      "text/plain": [
       "                   Driver Driver_ID                       Team Nationality  \\\n",
       "0            Nino Farina        FAR                 Alfa Romeo         ITA   \n",
       "1     Juan Manuel Fangio        FAN                 Alfa Romeo         ARG   \n",
       "2          Luigi Fagioli        FAG                 Alfa Romeo         ITA   \n",
       "3           Louis Rosier        ROS                Talbot-Lago         FRA   \n",
       "4         Alberto Ascari        ASC                    Ferrari         ITA   \n",
       "...                   ...       ...                        ...         ...   \n",
       "1568     Kevin Magnussen        MAG               Haas Ferrari         DEN   \n",
       "1569      Kimi Räikkönen        RAI  Alfa Romeo Racing Ferrari         FIN   \n",
       "1570     Nicholas Latifi        LAT          Williams Mercedes         CAN   \n",
       "1571      George Russell        RUS          Williams Mercedes         GBR   \n",
       "1572     Romain Grosjean        GRO               Haas Ferrari         FRA   \n",
       "\n",
       "       PTS Position  Year  \n",
       "0     30.0        1  1950  \n",
       "1     27.0        2  1950  \n",
       "2     24.0        3  1950  \n",
       "3     13.0        4  1950  \n",
       "4     11.0        5  1950  \n",
       "...    ...      ...   ...  \n",
       "1568   1.0       17  2020  \n",
       "1569   0.0       18  2020  \n",
       "1570   0.0       19  2020  \n",
       "1571   0.0       20  2020  \n",
       "1572   0.0       21  2020  \n",
       "\n",
       "[1573 rows x 7 columns]"
      ]
     },
     "execution_count": 3,
     "metadata": {},
     "output_type": "execute_result"
    }
   ],
   "source": [
    "from project_functions3 import load_and_process\n",
    "dfEvan = load_and_process(\"../f1data.csv\")\n",
    "dfEvan"
   ]
  },
  {
   "cell_type": "markdown",
   "id": "088902cd-7e9d-4b8d-bc2e-4b767921e1d0",
   "metadata": {},
   "source": [
    "# What driver has had the best season of all time?"
   ]
  },
  {
   "cell_type": "code",
   "execution_count": 4,
   "id": "1047976b-328d-45f4-b9be-441edeebf50d",
   "metadata": {},
   "outputs": [
    {
     "data": {
      "text/plain": [
       "<AxesSubplot:xlabel='Year', ylabel='Points'>"
      ]
     },
     "execution_count": 4,
     "metadata": {},
     "output_type": "execute_result"
    },
    {
     "data": {
      "image/png": "[encoded data removed]",
      "text/plain": [
       "<Figure size 1080x360 with 1 Axes>"
      ]
     },
     "metadata": {
      "needs_background": "light"
     },
     "output_type": "display_data"
    }
   ],
   "source": [
    "dfKennedy.plot(kind='scatter', x='Year', y='Points',figsize=(15,5))"
   ]
  },
  {
   "cell_type": "code",
   "execution_count": 5,
   "id": "7d82f095-412e-460d-96a3-a43f181ba68e",
   "metadata": {},
   "outputs": [
    {
     "data": {
      "text/html": [
       "<div>\n",
       "<style scoped>\n",
       "    .dataframe tbody tr th:only-of-type {\n",
       "        vertical-align: middle;\n",
       "    }\n",
       "\n",
       "    .dataframe tbody tr th {\n",
       "        vertical-align: top;\n",
       "    }\n",
       "\n",
       "    .dataframe thead th {\n",
       "        text-align: right;\n",
       "    }\n",
       "</style>\n",
       "<table border=\"1\" class=\"dataframe\">\n",
       "  <thead>\n",
       "    <tr style=\"text-align: right;\">\n",
       "      <th></th>\n",
       "      <th>Position</th>\n",
       "      <th>Nationality</th>\n",
       "      <th>Team</th>\n",
       "      <th>Points</th>\n",
       "      <th>Year</th>\n",
       "      <th>Driver_ID</th>\n",
       "      <th>Driver</th>\n",
       "    </tr>\n",
       "  </thead>\n",
       "  <tbody>\n",
       "    <tr>\n",
       "      <th>1532</th>\n",
       "      <td>1</td>\n",
       "      <td>GBR</td>\n",
       "      <td>Mercedes</td>\n",
       "      <td>413.0</td>\n",
       "      <td>2019</td>\n",
       "      <td>HAM</td>\n",
       "      <td>Lewis Hamilton</td>\n",
       "    </tr>\n",
       "  </tbody>\n",
       "</table>\n",
       "</div>"
      ],
      "text/plain": [
       "     Position Nationality      Team  Points  Year Driver_ID           Driver\n",
       "1532        1         GBR  Mercedes   413.0  2019       HAM  Lewis Hamilton "
      ]
     },
     "execution_count": 5,
     "metadata": {},
     "output_type": "execute_result"
    }
   ],
   "source": [
    "dfKennedy[dfKennedy['Points']==dfKennedy['Points'].max()]"
   ]
  },
  {
   "cell_type": "markdown",
   "id": "56efe4ec-36c1-4afb-b88a-420b587efa9c",
   "metadata": {},
   "source": [
    "This shows that the driver with the highest scoring season of all time occured in 2019 and the driver has Lewis Hamilton. He drove for Team Mercedes and scored a total of 413 in the season."
   ]
  },
  {
   "cell_type": "markdown",
   "id": "9242137d-abe3-4ecb-a4a3-d619196baf44",
   "metadata": {},
   "source": [
    "# What nationality has scored the most combined points throughout history?"
   ]
  },
  {
   "cell_type": "code",
   "execution_count": 6,
   "id": "286a245c-25a0-4852-9102-42812a6fd005",
   "metadata": {},
   "outputs": [
    {
     "data": {
      "text/plain": [
       "<AxesSubplot:xlabel='Nationality', ylabel='PTS'>"
      ]
     },
     "execution_count": 6,
     "metadata": {},
     "output_type": "execute_result"
    },
    {
     "data": {
      "image/png": "[encoded data removed]",
      "text/plain": [
       "<Figure size 1080x360 with 1 Axes>"
      ]
     },
     "metadata": {
      "needs_background": "light"
     },
     "output_type": "display_data"
    }
   ],
   "source": [
    "dfJordan.plot.scatter(x=\"Nationality\", y=\"PTS\", figsize=(15,5))"
   ]
  },
  {
   "cell_type": "markdown",
   "id": "cb0ffb3e-07d4-49f6-ae17-af2a02e5ccee",
   "metadata": {},
   "source": [
    "### Max Points:"
   ]
  },
  {
   "cell_type": "code",
   "execution_count": 7,
   "id": "06896941-b0f9-4010-97a7-a85234970070",
   "metadata": {},
   "outputs": [
    {
     "data": {
      "text/html": [
       "<div>\n",
       "<style scoped>\n",
       "    .dataframe tbody tr th:only-of-type {\n",
       "        vertical-align: middle;\n",
       "    }\n",
       "\n",
       "    .dataframe tbody tr th {\n",
       "        vertical-align: top;\n",
       "    }\n",
       "\n",
       "    .dataframe thead th {\n",
       "        text-align: right;\n",
       "    }\n",
       "</style>\n",
       "<table border=\"1\" class=\"dataframe\">\n",
       "  <thead>\n",
       "    <tr style=\"text-align: right;\">\n",
       "      <th></th>\n",
       "      <th>Nationality</th>\n",
       "      <th>PTS</th>\n",
       "    </tr>\n",
       "  </thead>\n",
       "  <tbody>\n",
       "    <tr>\n",
       "      <th>12</th>\n",
       "      <td>GBR</td>\n",
       "      <td>9092.2</td>\n",
       "    </tr>\n",
       "  </tbody>\n",
       "</table>\n",
       "</div>"
      ],
      "text/plain": [
       "   Nationality     PTS\n",
       "12         GBR  9092.2"
      ]
     },
     "execution_count": 7,
     "metadata": {},
     "output_type": "execute_result"
    }
   ],
   "source": [
    "dfNation = dfJordan.groupby([\"Nationality\"]).PTS.sum().reset_index()\n",
    "dfNation[dfNation[\"PTS\"]==dfNation[\"PTS\"].max()]"
   ]
  },
  {
   "cell_type": "markdown",
   "id": "8f7d30f2-0b29-4de8-80a0-890a47ee0abb",
   "metadata": {},
   "source": [
    "### Most Drivers:"
   ]
  },
  {
   "cell_type": "code",
   "execution_count": 8,
   "id": "ac5e17ef-b21e-4f96-bc49-fad108fd74ef",
   "metadata": {},
   "outputs": [
    {
     "data": {
      "text/html": [
       "<div>\n",
       "<style scoped>\n",
       "    .dataframe tbody tr th:only-of-type {\n",
       "        vertical-align: middle;\n",
       "    }\n",
       "\n",
       "    .dataframe tbody tr th {\n",
       "        vertical-align: top;\n",
       "    }\n",
       "\n",
       "    .dataframe thead th {\n",
       "        text-align: right;\n",
       "    }\n",
       "</style>\n",
       "<table border=\"1\" class=\"dataframe\">\n",
       "  <thead>\n",
       "    <tr style=\"text-align: right;\">\n",
       "      <th></th>\n",
       "      <th>Nationality</th>\n",
       "      <th>Driver</th>\n",
       "    </tr>\n",
       "  </thead>\n",
       "  <tbody>\n",
       "    <tr>\n",
       "      <th>12</th>\n",
       "      <td>GBR</td>\n",
       "      <td>285</td>\n",
       "    </tr>\n",
       "  </tbody>\n",
       "</table>\n",
       "</div>"
      ],
      "text/plain": [
       "   Nationality  Driver\n",
       "12         GBR     285"
      ]
     },
     "execution_count": 8,
     "metadata": {},
     "output_type": "execute_result"
    }
   ],
   "source": [
    "dfDriver = dfJordan.groupby([\"Nationality\"]).Driver.count().reset_index()\n",
    "dfDriver[dfDriver[\"Driver\"]==dfDriver[\"Driver\"].max()]"
   ]
  },
  {
   "cell_type": "markdown",
   "id": "fa980bde-408a-49d7-bad6-ffeddbe970eb",
   "metadata": {},
   "source": [
    "This shows that in total, drivers with a nationality of Great Britian(GBR) have earned the most points throughout history. In total they have earned nearly 9100 points with a total of 285 drivers in races. Since they have had the most drivers, this helps to explain how they reached such a high point threshold."
   ]
  },
  {
   "cell_type": "markdown",
   "id": "732f9aec-6789-4881-b04a-9bf91a87f698",
   "metadata": {},
   "source": [
    "# What team is the highest cumulative scoring team of all time?"
   ]
  },
  {
   "cell_type": "markdown",
   "id": "7cc09882-0ab5-41c6-95b9-7e6950e76d0f",
   "metadata": {},
   "source": [
    "### Highest Cumulative points by Teams"
   ]
  },
  {
   "cell_type": "code",
   "execution_count": 14,
   "id": "a2630e69-0396-4166-a333-2092150962b2",
   "metadata": {},
   "outputs": [
    {
     "data": {
      "text/html": [
       "<div>\n",
       "<style scoped>\n",
       "    .dataframe tbody tr th:only-of-type {\n",
       "        vertical-align: middle;\n",
       "    }\n",
       "\n",
       "    .dataframe tbody tr th {\n",
       "        vertical-align: top;\n",
       "    }\n",
       "\n",
       "    .dataframe thead th {\n",
       "        text-align: right;\n",
       "    }\n",
       "</style>\n",
       "<table border=\"1\" class=\"dataframe\">\n",
       "  <thead>\n",
       "    <tr style=\"text-align: right;\">\n",
       "      <th></th>\n",
       "      <th>Team</th>\n",
       "      <th>PTS</th>\n",
       "    </tr>\n",
       "  </thead>\n",
       "  <tbody>\n",
       "    <tr>\n",
       "      <th>47</th>\n",
       "      <td>Ferrari</td>\n",
       "      <td>9096.1</td>\n",
       "    </tr>\n",
       "  </tbody>\n",
       "</table>\n",
       "</div>"
      ],
      "text/plain": [
       "       Team     PTS\n",
       "47  Ferrari  9096.1"
      ]
     },
     "execution_count": 14,
     "metadata": {},
     "output_type": "execute_result"
    }
   ],
   "source": [
    "dfTeam = dfEvan.groupby([\"Team\"]).PTS.sum().reset_index()\n",
    "dfTeam[dfTeam[\"PTS\"]==dfTeam[\"PTS\"].max()]"
   ]
  },
  {
   "cell_type": "markdown",
   "id": "894bf14d-6bdd-486d-93b1-fe886ce658c6",
   "metadata": {},
   "source": [
    "### Total Drivers in History"
   ]
  },
  {
   "cell_type": "code",
   "execution_count": 35,
   "id": "77768d8d-91ba-4a4f-b0a8-e0e59bff3271",
   "metadata": {},
   "outputs": [
    {
     "data": {
      "text/html": [
       "<div>\n",
       "<style scoped>\n",
       "    .dataframe tbody tr th:only-of-type {\n",
       "        vertical-align: middle;\n",
       "    }\n",
       "\n",
       "    .dataframe tbody tr th {\n",
       "        vertical-align: top;\n",
       "    }\n",
       "\n",
       "    .dataframe thead th {\n",
       "        text-align: right;\n",
       "    }\n",
       "</style>\n",
       "<table border=\"1\" class=\"dataframe\">\n",
       "  <thead>\n",
       "    <tr style=\"text-align: right;\">\n",
       "      <th></th>\n",
       "      <th>Team</th>\n",
       "      <th>Year</th>\n",
       "    </tr>\n",
       "  </thead>\n",
       "  <tbody>\n",
       "    <tr>\n",
       "      <th>47</th>\n",
       "      <td>Ferrari</td>\n",
       "      <td>197</td>\n",
       "    </tr>\n",
       "  </tbody>\n",
       "</table>\n",
       "</div>"
      ],
      "text/plain": [
       "       Team  Year\n",
       "47  Ferrari   197"
      ]
     },
     "execution_count": 35,
     "metadata": {},
     "output_type": "execute_result"
    }
   ],
   "source": [
    "dfTime = dfEvan.groupby([\"Team\"]).Year.count().reset_index()\n",
    "dfTime.sort_values(\"Year\").reset_index()\n",
    "dfTime[dfTime[\"Year\"]==dfTime[\"Year\"].max()]"
   ]
  },
  {
   "cell_type": "markdown",
   "id": "fb5d8a80-d6c9-4b67-8fc5-f0b90022ef08",
   "metadata": {},
   "source": [
    "Overall, Ferrari has scored the most cumulative points in history, scoring a total of 9096 points. This is largely due to their long time existance in F1, over the 70 years of data, they have had nearly 200 drivers."
   ]
  },
  {
   "cell_type": "markdown",
   "id": "cc37cfe9-a258-48ae-b814-6173bf9fae79",
   "metadata": {},
   "source": [
    "# Examination of Point distribution over time"
   ]
  },
  {
   "cell_type": "code",
   "execution_count": 36,
   "id": "547e2619-b903-455c-aa9e-c5a21199c630",
   "metadata": {},
   "outputs": [
    {
     "data": {
      "text/plain": [
       "<AxesSubplot:xlabel='Year'>"
      ]
     },
     "execution_count": 36,
     "metadata": {},
     "output_type": "execute_result"
    },
    {
     "data": {
      "image/png": "[encoded data removed]",
      "text/plain": [
       "<Figure size 1080x360 with 1 Axes>"
      ]
     },
     "metadata": {
      "needs_background": "light"
     },
     "output_type": "display_data"
    }
   ],
   "source": [
    "dfJordan.plot.bar(x=\"Year\",y=\"PTS\", figsize=(15,5))"
   ]
  },
  {
   "cell_type": "markdown",
   "id": "ea129dc1-2735-4025-882f-c686b7cdefa3",
   "metadata": {},
   "source": [
    "This graph shows the points distributed over time. The right side of the graph is recent years and the left being the beginning of F1. This clearly indicates that there has been a trend of growing max points available in recent years.This agrees to our initial research which suggested that there have been more races in recent years."
   ]
  }
 ],
 "metadata": {
  "kernelspec": {
   "display_name": "Python 3 (ipykernel)",
   "language": "python",
   "name": "python3"
  },
  "language_info": {
   "codemirror_mode": {
    "name": "ipython",
    "version": 3
   },
   "file_extension": ".py",
   "mimetype": "text/x-python",
   "name": "python",
   "nbconvert_exporter": "python",
   "pygments_lexer": "ipython3",
   "version": "3.9.5"
  }
 },
 "nbformat": 4,
 "nbformat_minor": 5
}
