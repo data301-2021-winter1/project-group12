{
 "cells": [
  {
   "cell_type": "markdown",
   "metadata": {},
   "source": [
    "# Kennedy Fletcher"
   ]
  },
  {
   "cell_type": "markdown",
   "metadata": {
    "tags": []
   },
   "source": [
    "## Research question/interests\n",
    "\n",
    "I want to look at what country has the most points of all time, as well as what driver has had the best season of all time. "
   ]
  },
  {
   "cell_type": "code",
   "execution_count": 1,
   "metadata": {},
   "outputs": [],
   "source": [
    "import pandas as pd\n",
    "import numpy as np\n",
    "import matplotlib.pylab as plt\n",
    "import seaborn as sns #Understanding my variables\n",
    "import csv"
   ]
  },
  {
   "cell_type": "code",
   "execution_count": 2,
   "metadata": {},
   "outputs": [
    {
     "name": "stdout",
     "output_type": "stream",
     "text": [
      "1.3.2\n"
     ]
    }
   ],
   "source": [
    "print(pd.__version__)"
   ]
  },
  {
   "cell_type": "code",
   "execution_count": 3,
   "metadata": {},
   "outputs": [],
   "source": [
    "f1data = pd.read_csv(\"../f1data.csv\")"
   ]
  },
  {
   "cell_type": "code",
   "execution_count": 4,
   "metadata": {},
   "outputs": [
    {
     "data": {
      "text/html": [
       "<div>\n",
       "<style scoped>\n",
       "    .dataframe tbody tr th:only-of-type {\n",
       "        vertical-align: middle;\n",
       "    }\n",
       "\n",
       "    .dataframe tbody tr th {\n",
       "        vertical-align: top;\n",
       "    }\n",
       "\n",
       "    .dataframe thead th {\n",
       "        text-align: right;\n",
       "    }\n",
       "</style>\n",
       "<table border=\"1\" class=\"dataframe\">\n",
       "  <thead>\n",
       "    <tr style=\"text-align: right;\">\n",
       "      <th></th>\n",
       "      <th>Pos</th>\n",
       "      <th>Driver</th>\n",
       "      <th>Nationality</th>\n",
       "      <th>Car</th>\n",
       "      <th>PTS</th>\n",
       "      <th>Year</th>\n",
       "    </tr>\n",
       "  </thead>\n",
       "  <tbody>\n",
       "    <tr>\n",
       "      <th>0</th>\n",
       "      <td>1</td>\n",
       "      <td>Nino Farina FAR</td>\n",
       "      <td>ITA</td>\n",
       "      <td>Alfa Romeo</td>\n",
       "      <td>30.0</td>\n",
       "      <td>1950</td>\n",
       "    </tr>\n",
       "    <tr>\n",
       "      <th>1</th>\n",
       "      <td>2</td>\n",
       "      <td>Juan Manuel Fangio FAN</td>\n",
       "      <td>ARG</td>\n",
       "      <td>Alfa Romeo</td>\n",
       "      <td>27.0</td>\n",
       "      <td>1950</td>\n",
       "    </tr>\n",
       "    <tr>\n",
       "      <th>2</th>\n",
       "      <td>3</td>\n",
       "      <td>Luigi Fagioli FAG</td>\n",
       "      <td>ITA</td>\n",
       "      <td>Alfa Romeo</td>\n",
       "      <td>24.0</td>\n",
       "      <td>1950</td>\n",
       "    </tr>\n",
       "    <tr>\n",
       "      <th>3</th>\n",
       "      <td>4</td>\n",
       "      <td>Louis Rosier ROS</td>\n",
       "      <td>FRA</td>\n",
       "      <td>Talbot-Lago</td>\n",
       "      <td>13.0</td>\n",
       "      <td>1950</td>\n",
       "    </tr>\n",
       "    <tr>\n",
       "      <th>4</th>\n",
       "      <td>5</td>\n",
       "      <td>Alberto Ascari ASC</td>\n",
       "      <td>ITA</td>\n",
       "      <td>Ferrari</td>\n",
       "      <td>11.0</td>\n",
       "      <td>1950</td>\n",
       "    </tr>\n",
       "    <tr>\n",
       "      <th>...</th>\n",
       "      <td>...</td>\n",
       "      <td>...</td>\n",
       "      <td>...</td>\n",
       "      <td>...</td>\n",
       "      <td>...</td>\n",
       "      <td>...</td>\n",
       "    </tr>\n",
       "    <tr>\n",
       "      <th>1568</th>\n",
       "      <td>17</td>\n",
       "      <td>Kevin Magnussen MAG</td>\n",
       "      <td>DEN</td>\n",
       "      <td>Haas Ferrari</td>\n",
       "      <td>1.0</td>\n",
       "      <td>2020</td>\n",
       "    </tr>\n",
       "    <tr>\n",
       "      <th>1569</th>\n",
       "      <td>18</td>\n",
       "      <td>Kimi RÃ¤ikkÃ¶nen RAI</td>\n",
       "      <td>FIN</td>\n",
       "      <td>Alfa Romeo Racing Ferrari</td>\n",
       "      <td>0.0</td>\n",
       "      <td>2020</td>\n",
       "    </tr>\n",
       "    <tr>\n",
       "      <th>1570</th>\n",
       "      <td>19</td>\n",
       "      <td>Nicholas Latifi LAT</td>\n",
       "      <td>CAN</td>\n",
       "      <td>Williams Mercedes</td>\n",
       "      <td>0.0</td>\n",
       "      <td>2020</td>\n",
       "    </tr>\n",
       "    <tr>\n",
       "      <th>1571</th>\n",
       "      <td>20</td>\n",
       "      <td>George Russell RUS</td>\n",
       "      <td>GBR</td>\n",
       "      <td>Williams Mercedes</td>\n",
       "      <td>0.0</td>\n",
       "      <td>2020</td>\n",
       "    </tr>\n",
       "    <tr>\n",
       "      <th>1572</th>\n",
       "      <td>21</td>\n",
       "      <td>Romain Grosjean GRO</td>\n",
       "      <td>FRA</td>\n",
       "      <td>Haas Ferrari</td>\n",
       "      <td>0.0</td>\n",
       "      <td>2020</td>\n",
       "    </tr>\n",
       "  </tbody>\n",
       "</table>\n",
       "<p>1573 rows × 6 columns</p>\n",
       "</div>"
      ],
      "text/plain": [
       "     Pos                  Driver Nationality                        Car   PTS  \\\n",
       "0      1         Nino Farina FAR         ITA                 Alfa Romeo  30.0   \n",
       "1      2  Juan Manuel Fangio FAN         ARG                 Alfa Romeo  27.0   \n",
       "2      3       Luigi Fagioli FAG         ITA                 Alfa Romeo  24.0   \n",
       "3      4        Louis Rosier ROS         FRA                Talbot-Lago  13.0   \n",
       "4      5      Alberto Ascari ASC         ITA                    Ferrari  11.0   \n",
       "...   ..                     ...         ...                        ...   ...   \n",
       "1568  17     Kevin Magnussen MAG         DEN               Haas Ferrari   1.0   \n",
       "1569  18    Kimi RÃ¤ikkÃ¶nen RAI         FIN  Alfa Romeo Racing Ferrari   0.0   \n",
       "1570  19     Nicholas Latifi LAT         CAN          Williams Mercedes   0.0   \n",
       "1571  20      George Russell RUS         GBR          Williams Mercedes   0.0   \n",
       "1572  21     Romain Grosjean GRO         FRA               Haas Ferrari   0.0   \n",
       "\n",
       "      Year  \n",
       "0     1950  \n",
       "1     1950  \n",
       "2     1950  \n",
       "3     1950  \n",
       "4     1950  \n",
       "...    ...  \n",
       "1568  2020  \n",
       "1569  2020  \n",
       "1570  2020  \n",
       "1571  2020  \n",
       "1572  2020  \n",
       "\n",
       "[1573 rows x 6 columns]"
      ]
     },
     "execution_count": 4,
     "metadata": {},
     "output_type": "execute_result"
    }
   ],
   "source": [
    "f1data"
   ]
  },
  {
   "cell_type": "code",
   "execution_count": 5,
   "metadata": {},
   "outputs": [],
   "source": [
    "## Milestone 3 Task 1 (EDA)"
   ]
  },
  {
   "cell_type": "code",
   "execution_count": 6,
   "metadata": {},
   "outputs": [
    {
     "data": {
      "text/plain": [
       "(1573, 6)"
      ]
     },
     "execution_count": 6,
     "metadata": {},
     "output_type": "execute_result"
    }
   ],
   "source": [
    "f1data.shape"
   ]
  },
  {
   "cell_type": "code",
   "execution_count": 7,
   "metadata": {},
   "outputs": [],
   "source": [
    "## so there are 1573 rows and 6 columns"
   ]
  },
  {
   "cell_type": "code",
   "execution_count": 8,
   "metadata": {},
   "outputs": [
    {
     "data": {
      "text/plain": [
       "Index(['Pos', 'Driver', 'Nationality', 'Car', 'PTS', 'Year'], dtype='object')"
      ]
     },
     "execution_count": 8,
     "metadata": {},
     "output_type": "execute_result"
    }
   ],
   "source": [
    "f1data.columns"
   ]
  },
  {
   "cell_type": "code",
   "execution_count": 9,
   "metadata": {},
   "outputs": [
    {
     "data": {
      "text/html": [
       "<div>\n",
       "<style scoped>\n",
       "    .dataframe tbody tr th:only-of-type {\n",
       "        vertical-align: middle;\n",
       "    }\n",
       "\n",
       "    .dataframe tbody tr th {\n",
       "        vertical-align: top;\n",
       "    }\n",
       "\n",
       "    .dataframe thead th {\n",
       "        text-align: right;\n",
       "    }\n",
       "</style>\n",
       "<table border=\"1\" class=\"dataframe\">\n",
       "  <thead>\n",
       "    <tr style=\"text-align: right;\">\n",
       "      <th></th>\n",
       "      <th>PTS</th>\n",
       "      <th>Year</th>\n",
       "    </tr>\n",
       "  </thead>\n",
       "  <tbody>\n",
       "    <tr>\n",
       "      <th>count</th>\n",
       "      <td>1573.000000</td>\n",
       "      <td>1573.000000</td>\n",
       "    </tr>\n",
       "    <tr>\n",
       "      <th>mean</th>\n",
       "      <td>27.207883</td>\n",
       "      <td>1985.148760</td>\n",
       "    </tr>\n",
       "    <tr>\n",
       "      <th>std</th>\n",
       "      <td>52.585197</td>\n",
       "      <td>20.744311</td>\n",
       "    </tr>\n",
       "    <tr>\n",
       "      <th>min</th>\n",
       "      <td>0.000000</td>\n",
       "      <td>1950.000000</td>\n",
       "    </tr>\n",
       "    <tr>\n",
       "      <th>25%</th>\n",
       "      <td>3.000000</td>\n",
       "      <td>1967.000000</td>\n",
       "    </tr>\n",
       "    <tr>\n",
       "      <th>50%</th>\n",
       "      <td>8.000000</td>\n",
       "      <td>1985.000000</td>\n",
       "    </tr>\n",
       "    <tr>\n",
       "      <th>75%</th>\n",
       "      <td>28.000000</td>\n",
       "      <td>2004.000000</td>\n",
       "    </tr>\n",
       "    <tr>\n",
       "      <th>max</th>\n",
       "      <td>413.000000</td>\n",
       "      <td>2020.000000</td>\n",
       "    </tr>\n",
       "  </tbody>\n",
       "</table>\n",
       "</div>"
      ],
      "text/plain": [
       "               PTS         Year\n",
       "count  1573.000000  1573.000000\n",
       "mean     27.207883  1985.148760\n",
       "std      52.585197    20.744311\n",
       "min       0.000000  1950.000000\n",
       "25%       3.000000  1967.000000\n",
       "50%       8.000000  1985.000000\n",
       "75%      28.000000  2004.000000\n",
       "max     413.000000  2020.000000"
      ]
     },
     "execution_count": 9,
     "metadata": {},
     "output_type": "execute_result"
    }
   ],
   "source": [
    "f1data.describe().apply(lambda s: s.apply(lambda x: format(x, 'f')))"
   ]
  },
  {
   "cell_type": "code",
   "execution_count": 10,
   "metadata": {},
   "outputs": [
    {
     "data": {
      "text/plain": [
       "<AxesSubplot:xlabel='Pos', ylabel='PTS'>"
      ]
     },
     "execution_count": 10,
     "metadata": {},
     "output_type": "execute_result"
    },
    {
     "data": {
      "image/png": "[encoded data removed]",
      "text/plain": [
       "<Figure size 1080x360 with 1 Axes>"
      ]
     },
     "metadata": {
      "needs_background": "light"
     },
     "output_type": "display_data"
    }
   ],
   "source": [
    "f1data.plot(kind='scatter', x='Pos', y='PTS',figsize=(15,5))"
   ]
  },
  {
   "cell_type": "code",
   "execution_count": 11,
   "metadata": {},
   "outputs": [
    {
     "data": {
      "text/plain": [
       "<AxesSubplot:ylabel='Frequency'>"
      ]
     },
     "execution_count": 11,
     "metadata": {},
     "output_type": "execute_result"
    },
    {
     "data": {
      "image/png": "[encoded data removed]",
      "text/plain": [
       "<Figure size 864x432 with 1 Axes>"
      ]
     },
     "metadata": {
      "needs_background": "light"
     },
     "output_type": "display_data"
    }
   ],
   "source": [
    "f1data['PTS'].plot(kind='hist', bins=20, figsize=(12,6), facecolor='grey',edgecolor='black')"
   ]
  },
  {
   "cell_type": "code",
   "execution_count": 12,
   "metadata": {},
   "outputs": [
    {
     "data": {
      "text/plain": [
       "<AxesSubplot:xlabel='Year', ylabel='PTS'>"
      ]
     },
     "execution_count": 12,
     "metadata": {},
     "output_type": "execute_result"
    },
    {
     "data": {
      "image/png": "[encoded data removed]",
      "text/plain": [
       "<Figure size 1080x360 with 1 Axes>"
      ]
     },
     "metadata": {
      "needs_background": "light"
     },
     "output_type": "display_data"
    }
   ],
   "source": [
    "f1data.plot(kind='scatter', x='Year', y='PTS',figsize=(15,5))"
   ]
  },
  {
   "cell_type": "code",
   "execution_count": 13,
   "metadata": {},
   "outputs": [
    {
     "data": {
      "text/plain": [
       "<AxesSubplot:xlabel='Nationality', ylabel='PTS'>"
      ]
     },
     "execution_count": 13,
     "metadata": {},
     "output_type": "execute_result"
    },
    {
     "data": {
      "image/png": "[encoded data removed]",
      "text/plain": [
       "<Figure size 1080x360 with 1 Axes>"
      ]
     },
     "metadata": {
      "needs_background": "light"
     },
     "output_type": "display_data"
    }
   ],
   "source": [
    "f1data.plot(kind='scatter', x='Nationality', y='PTS',figsize=(15,5))"
   ]
  },
  {
   "cell_type": "code",
   "execution_count": 14,
   "metadata": {},
   "outputs": [],
   "source": [
    "def top5(df):\n",
    "    \"\"\"Given dataframe, generate top 5 unique values for non-numeric data\"\"\"\n",
    "    columns = df.select_dtypes(include=['object', 'category']).columns\n",
    "    for col in columns:\n",
    "        print(\"Top 5 unique values of \" + col)\n",
    "        print(df[col].value_counts().reset_index().rename(columns={\"index\": col, col: \"Count\"})[\n",
    "              :min(5, len(df[col].value_counts()))])\n",
    "        print(\" \")"
   ]
  },
  {
   "cell_type": "code",
   "execution_count": 15,
   "metadata": {},
   "outputs": [
    {
     "name": "stdout",
     "output_type": "stream",
     "text": [
      "Top 5 unique values of Pos\n",
      "  Pos  Count\n",
      "0  18     95\n",
      "1  15     79\n",
      "2  13     79\n",
      "3  12     76\n",
      "4   6     75\n",
      " \n",
      "Top 5 unique values of Driver\n",
      "                   Driver  Count\n",
      "0  Rubens Barrichello BAR     19\n",
      "1  Michael Schumacher MSC     19\n",
      "2    Kimi RÃ¤ikkÃ¶nen RAI     18\n",
      "3       Jenson Button BUT     17\n",
      "4    Riccardo Patrese PAT     16\n",
      " \n",
      "Top 5 unique values of Nationality\n",
      "  Nationality  Count\n",
      "0         GBR    285\n",
      "1         ITA    192\n",
      "2         FRA    177\n",
      "3         USA    133\n",
      "4         GER    130\n",
      " \n",
      "Top 5 unique values of Car\n",
      "                Car  Count\n",
      "0           Ferrari    197\n",
      "1           Renault     48\n",
      "2               BRM     44\n",
      "3        Lotus Ford     43\n",
      "4  McLaren Mercedes     43\n",
      " \n"
     ]
    }
   ],
   "source": [
    "top5(f1data)"
   ]
  },
  {
   "cell_type": "code",
   "execution_count": 16,
   "metadata": {},
   "outputs": [],
   "source": [
    "# task 2"
   ]
  },
  {
   "cell_type": "code",
   "execution_count": 17,
   "metadata": {},
   "outputs": [
    {
     "name": "stdout",
     "output_type": "stream",
     "text": [
      ",\n"
     ]
    }
   ],
   "source": [
    "#checking the delimiter\n",
    "sniffer = csv.Sniffer()\n",
    "dialect = sniffer.sniff(\"first, second, third, fourth\")\n",
    "print(dialect.delimiter)"
   ]
  },
  {
   "cell_type": "code",
   "execution_count": 18,
   "metadata": {},
   "outputs": [],
   "source": [
    "#changing column names\n",
    "f1data.rename(columns={\"Car\":\"Team\",\"Pos\":\"Position\",\"PTS\":\"Points\"}, inplace=True)"
   ]
  },
  {
   "cell_type": "code",
   "execution_count": 19,
   "metadata": {},
   "outputs": [
    {
     "name": "stdout",
     "output_type": "stream",
     "text": [
      "Preview of data with null values:\n",
      "    Position                  Driver Nationality Team  Points  Year\n",
      "16        13     Dorino Serafini SER         ITA  NaN     3.0  1950\n",
      "17        13  Philippe Etancelin ETA         FRA  NaN     3.0  1950\n",
      "21        20      Eugene Chaboud CHA         FRA  NaN     1.0  1950\n",
      "35        12        Louis Rosier ROS         FRA  NaN     3.0  1951\n",
      "53        13         Ken Wharton WHA         GBR  NaN     3.0  1952\n",
      "309       18      Masten Gregory GRE         USA  NaN     0.0  1963\n",
      "314       18       Mike Hailwood HAI         GBR  NaN     0.0  1963\n",
      "446       13     Richard Attwood ATT         GBR  NaN     3.0  1969\n",
      "478        2     Ronnie Peterson PET         SWE  NaN    33.0  1971\n",
      "492       16        Mark Donohue DON         USA  NaN     4.0  1971\n",
      "493       16     Henri Pescarolo PES         FRA  NaN     4.0  1971\n"
     ]
    }
   ],
   "source": [
    "#checking for null values\n",
    "f1data.isnull().any(axis=None)\n",
    "print(\"Preview of data with null values:\")\n",
    "print(f1data[f1data.isnull().any(axis=1)])"
   ]
  },
  {
   "cell_type": "code",
   "execution_count": 20,
   "metadata": {},
   "outputs": [],
   "source": [
    "#removing null values\n",
    "f1data[\"Team\"].fillna(\"Independent\", inplace = True)"
   ]
  },
  {
   "cell_type": "code",
   "execution_count": 21,
   "metadata": {},
   "outputs": [],
   "source": [
    "#changing kimi's name\n",
    "f1data['Driver'] = f1data['Driver'].replace(['Kimi RÃ¤ikkÃ¶nen RAI'],'Kimi Räikkönen RAI')\n",
    "i=f1data[f1data['Driver']=='Kimi Räikkönen RAI']"
   ]
  },
  {
   "cell_type": "code",
   "execution_count": 22,
   "metadata": {},
   "outputs": [
    {
     "data": {
      "text/html": [
       "<div>\n",
       "<style scoped>\n",
       "    .dataframe tbody tr th:only-of-type {\n",
       "        vertical-align: middle;\n",
       "    }\n",
       "\n",
       "    .dataframe tbody tr th {\n",
       "        vertical-align: top;\n",
       "    }\n",
       "\n",
       "    .dataframe thead th {\n",
       "        text-align: right;\n",
       "    }\n",
       "</style>\n",
       "<table border=\"1\" class=\"dataframe\">\n",
       "  <thead>\n",
       "    <tr style=\"text-align: right;\">\n",
       "      <th></th>\n",
       "      <th>Driver</th>\n",
       "      <th>Driver_ID</th>\n",
       "      <th>Team</th>\n",
       "      <th>Nationality</th>\n",
       "      <th>Points</th>\n",
       "      <th>Position</th>\n",
       "      <th>Year</th>\n",
       "    </tr>\n",
       "  </thead>\n",
       "  <tbody>\n",
       "    <tr>\n",
       "      <th>0</th>\n",
       "      <td>Nino Farina</td>\n",
       "      <td>FAR</td>\n",
       "      <td>Alfa Romeo</td>\n",
       "      <td>ITA</td>\n",
       "      <td>30.0</td>\n",
       "      <td>1</td>\n",
       "      <td>1950</td>\n",
       "    </tr>\n",
       "    <tr>\n",
       "      <th>1</th>\n",
       "      <td>Juan Manuel Fangio</td>\n",
       "      <td>FAN</td>\n",
       "      <td>Alfa Romeo</td>\n",
       "      <td>ARG</td>\n",
       "      <td>27.0</td>\n",
       "      <td>2</td>\n",
       "      <td>1950</td>\n",
       "    </tr>\n",
       "    <tr>\n",
       "      <th>2</th>\n",
       "      <td>Luigi Fagioli</td>\n",
       "      <td>FAG</td>\n",
       "      <td>Alfa Romeo</td>\n",
       "      <td>ITA</td>\n",
       "      <td>24.0</td>\n",
       "      <td>3</td>\n",
       "      <td>1950</td>\n",
       "    </tr>\n",
       "    <tr>\n",
       "      <th>3</th>\n",
       "      <td>Louis Rosier</td>\n",
       "      <td>ROS</td>\n",
       "      <td>Talbot-Lago</td>\n",
       "      <td>FRA</td>\n",
       "      <td>13.0</td>\n",
       "      <td>4</td>\n",
       "      <td>1950</td>\n",
       "    </tr>\n",
       "    <tr>\n",
       "      <th>4</th>\n",
       "      <td>Alberto Ascari</td>\n",
       "      <td>ASC</td>\n",
       "      <td>Ferrari</td>\n",
       "      <td>ITA</td>\n",
       "      <td>11.0</td>\n",
       "      <td>5</td>\n",
       "      <td>1950</td>\n",
       "    </tr>\n",
       "    <tr>\n",
       "      <th>...</th>\n",
       "      <td>...</td>\n",
       "      <td>...</td>\n",
       "      <td>...</td>\n",
       "      <td>...</td>\n",
       "      <td>...</td>\n",
       "      <td>...</td>\n",
       "      <td>...</td>\n",
       "    </tr>\n",
       "    <tr>\n",
       "      <th>1568</th>\n",
       "      <td>Kevin Magnussen</td>\n",
       "      <td>MAG</td>\n",
       "      <td>Haas Ferrari</td>\n",
       "      <td>DEN</td>\n",
       "      <td>1.0</td>\n",
       "      <td>17</td>\n",
       "      <td>2020</td>\n",
       "    </tr>\n",
       "    <tr>\n",
       "      <th>1569</th>\n",
       "      <td>Kimi Räikkönen</td>\n",
       "      <td>RAI</td>\n",
       "      <td>Alfa Romeo Racing Ferrari</td>\n",
       "      <td>FIN</td>\n",
       "      <td>0.0</td>\n",
       "      <td>18</td>\n",
       "      <td>2020</td>\n",
       "    </tr>\n",
       "    <tr>\n",
       "      <th>1570</th>\n",
       "      <td>Nicholas Latifi</td>\n",
       "      <td>LAT</td>\n",
       "      <td>Williams Mercedes</td>\n",
       "      <td>CAN</td>\n",
       "      <td>0.0</td>\n",
       "      <td>19</td>\n",
       "      <td>2020</td>\n",
       "    </tr>\n",
       "    <tr>\n",
       "      <th>1571</th>\n",
       "      <td>George Russell</td>\n",
       "      <td>RUS</td>\n",
       "      <td>Williams Mercedes</td>\n",
       "      <td>GBR</td>\n",
       "      <td>0.0</td>\n",
       "      <td>20</td>\n",
       "      <td>2020</td>\n",
       "    </tr>\n",
       "    <tr>\n",
       "      <th>1572</th>\n",
       "      <td>Romain Grosjean</td>\n",
       "      <td>GRO</td>\n",
       "      <td>Haas Ferrari</td>\n",
       "      <td>FRA</td>\n",
       "      <td>0.0</td>\n",
       "      <td>21</td>\n",
       "      <td>2020</td>\n",
       "    </tr>\n",
       "  </tbody>\n",
       "</table>\n",
       "<p>1573 rows × 7 columns</p>\n",
       "</div>"
      ],
      "text/plain": [
       "                   Driver Driver_ID                       Team Nationality  \\\n",
       "0            Nino Farina        FAR                 Alfa Romeo         ITA   \n",
       "1     Juan Manuel Fangio        FAN                 Alfa Romeo         ARG   \n",
       "2          Luigi Fagioli        FAG                 Alfa Romeo         ITA   \n",
       "3           Louis Rosier        ROS                Talbot-Lago         FRA   \n",
       "4         Alberto Ascari        ASC                    Ferrari         ITA   \n",
       "...                   ...       ...                        ...         ...   \n",
       "1568     Kevin Magnussen        MAG               Haas Ferrari         DEN   \n",
       "1569      Kimi Räikkönen        RAI  Alfa Romeo Racing Ferrari         FIN   \n",
       "1570     Nicholas Latifi        LAT          Williams Mercedes         CAN   \n",
       "1571      George Russell        RUS          Williams Mercedes         GBR   \n",
       "1572     Romain Grosjean        GRO               Haas Ferrari         FRA   \n",
       "\n",
       "      Points Position  Year  \n",
       "0       30.0        1  1950  \n",
       "1       27.0        2  1950  \n",
       "2       24.0        3  1950  \n",
       "3       13.0        4  1950  \n",
       "4       11.0        5  1950  \n",
       "...      ...      ...   ...  \n",
       "1568     1.0       17  2020  \n",
       "1569     0.0       18  2020  \n",
       "1570     0.0       19  2020  \n",
       "1571     0.0       20  2020  \n",
       "1572     0.0       21  2020  \n",
       "\n",
       "[1573 rows x 7 columns]"
      ]
     },
     "execution_count": 22,
     "metadata": {},
     "output_type": "execute_result"
    }
   ],
   "source": [
    "#separating the driver id off of the Driver name, and adding it to a new column\n",
    "f1data[\"Driver_ID\"] = f1data[\"Driver\"].str[-3:]\n",
    "f1data[\"Driver2\"] = f1data[\"Driver\"].str[:-3]\n",
    "f1data = f1data.drop(columns=[\"Driver\"])\n",
    "f1data.rename(columns={\"Driver2\": \"Driver\"}, inplace=True)\n",
    "f1data = f1data[[\"Driver\", \"Driver_ID\", \"Team\", \"Nationality\", \"Points\", \"Position\", \"Year\"]]\n",
    "f1data"
   ]
  },
  {
   "cell_type": "code",
   "execution_count": 23,
   "metadata": {},
   "outputs": [
    {
     "name": "stdout",
     "output_type": "stream",
     "text": [
      "No duplicated entries found\n"
     ]
    }
   ],
   "source": [
    "#checking for any duplicate entries \n",
    "if len(f1data[f1data.duplicated()]) > 0:\n",
    "    print(\"Number of duplicated entries: \", len(f1data[f1data.duplicated()]))\n",
    "    display(f1data[f1data.duplicated(keep=False)].sort_values(by=list(f1data.columns)).head())\n",
    "else:\n",
    "    print(\"No duplicated entries found\")"
   ]
  },
  {
   "cell_type": "code",
   "execution_count": 24,
   "metadata": {},
   "outputs": [],
   "source": [
    "# task 3"
   ]
  },
  {
   "cell_type": "code",
   "execution_count": 25,
   "metadata": {},
   "outputs": [],
   "source": [
    "def load_and_process(url_or_path_to_csv_file):\n",
    "\n",
    "    # Method Chain 1 (Load data and deal with missing data)\n",
    "\n",
    "    df1 = (\n",
    "          pd.read_csv(url_or_path_to_csv_file)\n",
    "          .rename(columns={\"Car\":\"Team\",\"Pos\":\"Position\",\"PTS\":\"Points\"})\n",
    "          .fillna(\"Independent\")\n",
    "          .replace(['Kimi RÃ¤ikkÃ¶nen RAI'],'Kimi Räikkönen RAI')\n",
    "      )\n",
    "\n",
    "    df2 = (\n",
    "        df1\n",
    "        .assign(Driver_ID = df1[\"Driver\"].str[-3:],Driver2 = df1[\"Driver\"].str[:-3])\n",
    "        .drop(columns=[\"Driver\"])\n",
    "        .rename(columns={\"Driver2\": \"Driver\"})\n",
    "      )\n",
    "\n",
    "    return df2\n"
   ]
  },
  {
   "cell_type": "code",
   "execution_count": 29,
   "metadata": {},
   "outputs": [
    {
     "data": {
      "text/html": [
       "<div>\n",
       "<style scoped>\n",
       "    .dataframe tbody tr th:only-of-type {\n",
       "        vertical-align: middle;\n",
       "    }\n",
       "\n",
       "    .dataframe tbody tr th {\n",
       "        vertical-align: top;\n",
       "    }\n",
       "\n",
       "    .dataframe thead th {\n",
       "        text-align: right;\n",
       "    }\n",
       "</style>\n",
       "<table border=\"1\" class=\"dataframe\">\n",
       "  <thead>\n",
       "    <tr style=\"text-align: right;\">\n",
       "      <th></th>\n",
       "      <th>Position</th>\n",
       "      <th>Nationality</th>\n",
       "      <th>Team</th>\n",
       "      <th>Points</th>\n",
       "      <th>Year</th>\n",
       "      <th>Driver_ID</th>\n",
       "      <th>Driver</th>\n",
       "    </tr>\n",
       "  </thead>\n",
       "  <tbody>\n",
       "    <tr>\n",
       "      <th>0</th>\n",
       "      <td>1</td>\n",
       "      <td>ITA</td>\n",
       "      <td>Alfa Romeo</td>\n",
       "      <td>30.0</td>\n",
       "      <td>1950</td>\n",
       "      <td>FAR</td>\n",
       "      <td>Nino Farina</td>\n",
       "    </tr>\n",
       "    <tr>\n",
       "      <th>1</th>\n",
       "      <td>2</td>\n",
       "      <td>ARG</td>\n",
       "      <td>Alfa Romeo</td>\n",
       "      <td>27.0</td>\n",
       "      <td>1950</td>\n",
       "      <td>FAN</td>\n",
       "      <td>Juan Manuel Fangio</td>\n",
       "    </tr>\n",
       "    <tr>\n",
       "      <th>2</th>\n",
       "      <td>3</td>\n",
       "      <td>ITA</td>\n",
       "      <td>Alfa Romeo</td>\n",
       "      <td>24.0</td>\n",
       "      <td>1950</td>\n",
       "      <td>FAG</td>\n",
       "      <td>Luigi Fagioli</td>\n",
       "    </tr>\n",
       "    <tr>\n",
       "      <th>3</th>\n",
       "      <td>4</td>\n",
       "      <td>FRA</td>\n",
       "      <td>Talbot-Lago</td>\n",
       "      <td>13.0</td>\n",
       "      <td>1950</td>\n",
       "      <td>ROS</td>\n",
       "      <td>Louis Rosier</td>\n",
       "    </tr>\n",
       "    <tr>\n",
       "      <th>4</th>\n",
       "      <td>5</td>\n",
       "      <td>ITA</td>\n",
       "      <td>Ferrari</td>\n",
       "      <td>11.0</td>\n",
       "      <td>1950</td>\n",
       "      <td>ASC</td>\n",
       "      <td>Alberto Ascari</td>\n",
       "    </tr>\n",
       "    <tr>\n",
       "      <th>...</th>\n",
       "      <td>...</td>\n",
       "      <td>...</td>\n",
       "      <td>...</td>\n",
       "      <td>...</td>\n",
       "      <td>...</td>\n",
       "      <td>...</td>\n",
       "      <td>...</td>\n",
       "    </tr>\n",
       "    <tr>\n",
       "      <th>1568</th>\n",
       "      <td>17</td>\n",
       "      <td>DEN</td>\n",
       "      <td>Haas Ferrari</td>\n",
       "      <td>1.0</td>\n",
       "      <td>2020</td>\n",
       "      <td>MAG</td>\n",
       "      <td>Kevin Magnussen</td>\n",
       "    </tr>\n",
       "    <tr>\n",
       "      <th>1569</th>\n",
       "      <td>18</td>\n",
       "      <td>FIN</td>\n",
       "      <td>Alfa Romeo Racing Ferrari</td>\n",
       "      <td>0.0</td>\n",
       "      <td>2020</td>\n",
       "      <td>RAI</td>\n",
       "      <td>Kimi Räikkönen</td>\n",
       "    </tr>\n",
       "    <tr>\n",
       "      <th>1570</th>\n",
       "      <td>19</td>\n",
       "      <td>CAN</td>\n",
       "      <td>Williams Mercedes</td>\n",
       "      <td>0.0</td>\n",
       "      <td>2020</td>\n",
       "      <td>LAT</td>\n",
       "      <td>Nicholas Latifi</td>\n",
       "    </tr>\n",
       "    <tr>\n",
       "      <th>1571</th>\n",
       "      <td>20</td>\n",
       "      <td>GBR</td>\n",
       "      <td>Williams Mercedes</td>\n",
       "      <td>0.0</td>\n",
       "      <td>2020</td>\n",
       "      <td>RUS</td>\n",
       "      <td>George Russell</td>\n",
       "    </tr>\n",
       "    <tr>\n",
       "      <th>1572</th>\n",
       "      <td>21</td>\n",
       "      <td>FRA</td>\n",
       "      <td>Haas Ferrari</td>\n",
       "      <td>0.0</td>\n",
       "      <td>2020</td>\n",
       "      <td>GRO</td>\n",
       "      <td>Romain Grosjean</td>\n",
       "    </tr>\n",
       "  </tbody>\n",
       "</table>\n",
       "<p>1573 rows × 7 columns</p>\n",
       "</div>"
      ],
      "text/plain": [
       "     Position Nationality                       Team  Points  Year Driver_ID  \\\n",
       "0           1         ITA                 Alfa Romeo    30.0  1950       FAR   \n",
       "1           2         ARG                 Alfa Romeo    27.0  1950       FAN   \n",
       "2           3         ITA                 Alfa Romeo    24.0  1950       FAG   \n",
       "3           4         FRA                Talbot-Lago    13.0  1950       ROS   \n",
       "4           5         ITA                    Ferrari    11.0  1950       ASC   \n",
       "...       ...         ...                        ...     ...   ...       ...   \n",
       "1568       17         DEN               Haas Ferrari     1.0  2020       MAG   \n",
       "1569       18         FIN  Alfa Romeo Racing Ferrari     0.0  2020       RAI   \n",
       "1570       19         CAN          Williams Mercedes     0.0  2020       LAT   \n",
       "1571       20         GBR          Williams Mercedes     0.0  2020       RUS   \n",
       "1572       21         FRA               Haas Ferrari     0.0  2020       GRO   \n",
       "\n",
       "                   Driver  \n",
       "0            Nino Farina   \n",
       "1     Juan Manuel Fangio   \n",
       "2          Luigi Fagioli   \n",
       "3           Louis Rosier   \n",
       "4         Alberto Ascari   \n",
       "...                   ...  \n",
       "1568     Kevin Magnussen   \n",
       "1569      Kimi Räikkönen   \n",
       "1570     Nicholas Latifi   \n",
       "1571      George Russell   \n",
       "1572     Romain Grosjean   \n",
       "\n",
       "[1573 rows x 7 columns]"
      ]
     },
     "execution_count": 29,
     "metadata": {},
     "output_type": "execute_result"
    }
   ],
   "source": [
    "df2 = load_and_process(\"../f1data.csv\")\n",
    "df2"
   ]
  },
  {
   "cell_type": "code",
   "execution_count": 36,
   "metadata": {},
   "outputs": [],
   "source": [
    "df2.to_csv('cleanedf1data.csv')"
   ]
  },
  {
   "cell_type": "code",
   "execution_count": null,
   "metadata": {},
   "outputs": [],
   "source": []
  }
 ],
 "metadata": {
  "kernelspec": {
   "display_name": "Python 3",
   "language": "python",
   "name": "python3"
  },
  "language_info": {
   "codemirror_mode": {
    "name": "ipython",
    "version": 3
   },
   "file_extension": ".py",
   "mimetype": "text/x-python",
   "name": "python",
   "nbconvert_exporter": "python",
   "pygments_lexer": "ipython3",
   "version": "3.9.5"
  }
 },
 "nbformat": 4,
 "nbformat_minor": 4
}
