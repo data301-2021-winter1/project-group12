{
 "cells": [
  {
   "cell_type": "markdown",
   "source": [
    "# Kennedy Fletcher"
   ],
   "metadata": {}
  },
  {
   "cell_type": "markdown",
   "source": [
    "## Research question/interests\r\n",
    "\r\n",
    "I want to look at what country has the most points of all time, as well as what driver has had the best season of all time"
   ],
   "metadata": {}
  }
 ],
 "metadata": {
  "orig_nbformat": 4,
  "language_info": {
   "name": "plaintext"
  }
 },
 "nbformat": 4,
 "nbformat_minor": 2
}
