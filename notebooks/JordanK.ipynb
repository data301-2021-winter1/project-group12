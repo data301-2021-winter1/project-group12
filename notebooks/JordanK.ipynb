{
 "cells": [
  {
   "cell_type": "markdown",
   "metadata": {},
   "source": [
    "Jordan King"
   ]
  },
  {
   "cell_type": "markdown",
   "metadata": {},
   "source": [
    "## Research question/interests\r",
    "I want to examine the point distributions through the years and evaluate the impact that nationality may have on scores.."
   ]
  },
  {
   "cell_type": "code",
   "execution_count": 1,
   "metadata": {},
   "outputs": [],
   "source": [
    "import pandas as pd\n",
    "import numpy as np\n",
    "import matplotlib.pylab as plt\n",
    "import seaborn as sns\n",
    "import csv"
   ]
  },
  {
   "cell_type": "code",
   "execution_count": 2,
   "metadata": {
    "jp-MarkdownHeadingCollapsed": true,
    "tags": []
   },
   "outputs": [],
   "source": [
    "f1data = pd.read_csv(\"../f1data.csv\")"
   ]
  },
  {
   "cell_type": "code",
   "execution_count": 3,
   "metadata": {
    "jupyter": {
     "source_hidden": true
    },
    "tags": []
   },
   "outputs": [
    {
     "data": {
      "text/html": [
       "<div>\n",
       "<style scoped>\n",
       "    .dataframe tbody tr th:only-of-type {\n",
       "        vertical-align: middle;\n",
       "    }\n",
       "\n",
       "    .dataframe tbody tr th {\n",
       "        vertical-align: top;\n",
       "    }\n",
       "\n",
       "    .dataframe thead th {\n",
       "        text-align: right;\n",
       "    }\n",
       "</style>\n",
       "<table border=\"1\" class=\"dataframe\">\n",
       "  <thead>\n",
       "    <tr style=\"text-align: right;\">\n",
       "      <th></th>\n",
       "      <th>Pos</th>\n",
       "      <th>Driver</th>\n",
       "      <th>Nationality</th>\n",
       "      <th>Car</th>\n",
       "      <th>PTS</th>\n",
       "      <th>Year</th>\n",
       "    </tr>\n",
       "  </thead>\n",
       "  <tbody>\n",
       "    <tr>\n",
       "      <th>0</th>\n",
       "      <td>1</td>\n",
       "      <td>Nino Farina FAR</td>\n",
       "      <td>ITA</td>\n",
       "      <td>Alfa Romeo</td>\n",
       "      <td>30.0</td>\n",
       "      <td>1950</td>\n",
       "    </tr>\n",
       "    <tr>\n",
       "      <th>1</th>\n",
       "      <td>2</td>\n",
       "      <td>Juan Manuel Fangio FAN</td>\n",
       "      <td>ARG</td>\n",
       "      <td>Alfa Romeo</td>\n",
       "      <td>27.0</td>\n",
       "      <td>1950</td>\n",
       "    </tr>\n",
       "    <tr>\n",
       "      <th>2</th>\n",
       "      <td>3</td>\n",
       "      <td>Luigi Fagioli FAG</td>\n",
       "      <td>ITA</td>\n",
       "      <td>Alfa Romeo</td>\n",
       "      <td>24.0</td>\n",
       "      <td>1950</td>\n",
       "    </tr>\n",
       "    <tr>\n",
       "      <th>3</th>\n",
       "      <td>4</td>\n",
       "      <td>Louis Rosier ROS</td>\n",
       "      <td>FRA</td>\n",
       "      <td>Talbot-Lago</td>\n",
       "      <td>13.0</td>\n",
       "      <td>1950</td>\n",
       "    </tr>\n",
       "    <tr>\n",
       "      <th>4</th>\n",
       "      <td>5</td>\n",
       "      <td>Alberto Ascari ASC</td>\n",
       "      <td>ITA</td>\n",
       "      <td>Ferrari</td>\n",
       "      <td>11.0</td>\n",
       "      <td>1950</td>\n",
       "    </tr>\n",
       "    <tr>\n",
       "      <th>...</th>\n",
       "      <td>...</td>\n",
       "      <td>...</td>\n",
       "      <td>...</td>\n",
       "      <td>...</td>\n",
       "      <td>...</td>\n",
       "      <td>...</td>\n",
       "    </tr>\n",
       "    <tr>\n",
       "      <th>1568</th>\n",
       "      <td>17</td>\n",
       "      <td>Kevin Magnussen MAG</td>\n",
       "      <td>DEN</td>\n",
       "      <td>Haas Ferrari</td>\n",
       "      <td>1.0</td>\n",
       "      <td>2020</td>\n",
       "    </tr>\n",
       "    <tr>\n",
       "      <th>1569</th>\n",
       "      <td>18</td>\n",
       "      <td>Kimi RÃ¤ikkÃ¶nen RAI</td>\n",
       "      <td>FIN</td>\n",
       "      <td>Alfa Romeo Racing Ferrari</td>\n",
       "      <td>0.0</td>\n",
       "      <td>2020</td>\n",
       "    </tr>\n",
       "    <tr>\n",
       "      <th>1570</th>\n",
       "      <td>19</td>\n",
       "      <td>Nicholas Latifi LAT</td>\n",
       "      <td>CAN</td>\n",
       "      <td>Williams Mercedes</td>\n",
       "      <td>0.0</td>\n",
       "      <td>2020</td>\n",
       "    </tr>\n",
       "    <tr>\n",
       "      <th>1571</th>\n",
       "      <td>20</td>\n",
       "      <td>George Russell RUS</td>\n",
       "      <td>GBR</td>\n",
       "      <td>Williams Mercedes</td>\n",
       "      <td>0.0</td>\n",
       "      <td>2020</td>\n",
       "    </tr>\n",
       "    <tr>\n",
       "      <th>1572</th>\n",
       "      <td>21</td>\n",
       "      <td>Romain Grosjean GRO</td>\n",
       "      <td>FRA</td>\n",
       "      <td>Haas Ferrari</td>\n",
       "      <td>0.0</td>\n",
       "      <td>2020</td>\n",
       "    </tr>\n",
       "  </tbody>\n",
       "</table>\n",
       "<p>1573 rows × 6 columns</p>\n",
       "</div>"
      ],
      "text/plain": [
       "     Pos                  Driver Nationality                        Car   PTS  \\\n",
       "0      1         Nino Farina FAR         ITA                 Alfa Romeo  30.0   \n",
       "1      2  Juan Manuel Fangio FAN         ARG                 Alfa Romeo  27.0   \n",
       "2      3       Luigi Fagioli FAG         ITA                 Alfa Romeo  24.0   \n",
       "3      4        Louis Rosier ROS         FRA                Talbot-Lago  13.0   \n",
       "4      5      Alberto Ascari ASC         ITA                    Ferrari  11.0   \n",
       "...   ..                     ...         ...                        ...   ...   \n",
       "1568  17     Kevin Magnussen MAG         DEN               Haas Ferrari   1.0   \n",
       "1569  18    Kimi RÃ¤ikkÃ¶nen RAI         FIN  Alfa Romeo Racing Ferrari   0.0   \n",
       "1570  19     Nicholas Latifi LAT         CAN          Williams Mercedes   0.0   \n",
       "1571  20      George Russell RUS         GBR          Williams Mercedes   0.0   \n",
       "1572  21     Romain Grosjean GRO         FRA               Haas Ferrari   0.0   \n",
       "\n",
       "      Year  \n",
       "0     1950  \n",
       "1     1950  \n",
       "2     1950  \n",
       "3     1950  \n",
       "4     1950  \n",
       "...    ...  \n",
       "1568  2020  \n",
       "1569  2020  \n",
       "1570  2020  \n",
       "1571  2020  \n",
       "1572  2020  \n",
       "\n",
       "[1573 rows x 6 columns]"
      ]
     },
     "execution_count": 3,
     "metadata": {},
     "output_type": "execute_result"
    }
   ],
   "source": [
    "f1data"
   ]
  },
  {
   "cell_type": "code",
   "execution_count": 4,
   "metadata": {},
   "outputs": [],
   "source": [
    "## Milestone 3, Task 1"
   ]
  },
  {
   "cell_type": "code",
   "execution_count": 5,
   "metadata": {},
   "outputs": [
    {
     "data": {
      "text/plain": [
       "(1573, 6)"
      ]
     },
     "execution_count": 5,
     "metadata": {},
     "output_type": "execute_result"
    }
   ],
   "source": [
    "f1data.shape"
   ]
  },
  {
   "cell_type": "code",
   "execution_count": 6,
   "metadata": {},
   "outputs": [],
   "source": [
    "# This lets me know that our data has 1573 rows of data with 6 keys."
   ]
  },
  {
   "cell_type": "code",
   "execution_count": 7,
   "metadata": {},
   "outputs": [
    {
     "data": {
      "text/plain": [
       "Index(['Pos', 'Driver', 'Nationality', 'Car', 'PTS', 'Year'], dtype='object')"
      ]
     },
     "execution_count": 7,
     "metadata": {},
     "output_type": "execute_result"
    }
   ],
   "source": [
    "f1data.columns"
   ]
  },
  {
   "cell_type": "code",
   "execution_count": 8,
   "metadata": {
    "tags": []
   },
   "outputs": [
    {
     "data": {
      "text/html": [
       "<div>\n",
       "<style scoped>\n",
       "    .dataframe tbody tr th:only-of-type {\n",
       "        vertical-align: middle;\n",
       "    }\n",
       "\n",
       "    .dataframe tbody tr th {\n",
       "        vertical-align: top;\n",
       "    }\n",
       "\n",
       "    .dataframe thead th {\n",
       "        text-align: right;\n",
       "    }\n",
       "</style>\n",
       "<table border=\"1\" class=\"dataframe\">\n",
       "  <thead>\n",
       "    <tr style=\"text-align: right;\">\n",
       "      <th></th>\n",
       "      <th>PTS</th>\n",
       "      <th>Year</th>\n",
       "    </tr>\n",
       "  </thead>\n",
       "  <tbody>\n",
       "    <tr>\n",
       "      <th>count</th>\n",
       "      <td>1573.000000</td>\n",
       "      <td>1573.000000</td>\n",
       "    </tr>\n",
       "    <tr>\n",
       "      <th>mean</th>\n",
       "      <td>27.207883</td>\n",
       "      <td>1985.148760</td>\n",
       "    </tr>\n",
       "    <tr>\n",
       "      <th>std</th>\n",
       "      <td>52.585197</td>\n",
       "      <td>20.744311</td>\n",
       "    </tr>\n",
       "    <tr>\n",
       "      <th>min</th>\n",
       "      <td>0.000000</td>\n",
       "      <td>1950.000000</td>\n",
       "    </tr>\n",
       "    <tr>\n",
       "      <th>25%</th>\n",
       "      <td>3.000000</td>\n",
       "      <td>1967.000000</td>\n",
       "    </tr>\n",
       "    <tr>\n",
       "      <th>50%</th>\n",
       "      <td>8.000000</td>\n",
       "      <td>1985.000000</td>\n",
       "    </tr>\n",
       "    <tr>\n",
       "      <th>75%</th>\n",
       "      <td>28.000000</td>\n",
       "      <td>2004.000000</td>\n",
       "    </tr>\n",
       "    <tr>\n",
       "      <th>max</th>\n",
       "      <td>413.000000</td>\n",
       "      <td>2020.000000</td>\n",
       "    </tr>\n",
       "  </tbody>\n",
       "</table>\n",
       "</div>"
      ],
      "text/plain": [
       "               PTS         Year\n",
       "count  1573.000000  1573.000000\n",
       "mean     27.207883  1985.148760\n",
       "std      52.585197    20.744311\n",
       "min       0.000000  1950.000000\n",
       "25%       3.000000  1967.000000\n",
       "50%       8.000000  1985.000000\n",
       "75%      28.000000  2004.000000\n",
       "max     413.000000  2020.000000"
      ]
     },
     "execution_count": 8,
     "metadata": {},
     "output_type": "execute_result"
    }
   ],
   "source": [
    "f1data.describe().apply(lambda s: s.apply(lambda x: format(x, 'f')))"
   ]
  },
  {
   "cell_type": "code",
   "execution_count": 9,
   "metadata": {
    "tags": []
   },
   "outputs": [
    {
     "data": {
      "text/plain": [
       "<AxesSubplot:xlabel='Year', ylabel='PTS'>"
      ]
     },
     "execution_count": 9,
     "metadata": {},
     "output_type": "execute_result"
    },
    {
     "data": {
      "image/png": "[encoded data removed]",
      "text/plain": [
       "<Figure size 432x288 with 2 Axes>"
      ]
     },
     "metadata": {
      "needs_background": "light"
     },
     "output_type": "display_data"
    }
   ],
   "source": [
    "f1data.plot.hexbin(x=\"Year\", y=\"PTS\", gridsize=25)"
   ]
  },
  {
   "cell_type": "code",
   "execution_count": 10,
   "metadata": {
    "jupyter": {
     "source_hidden": true
    },
    "tags": []
   },
   "outputs": [],
   "source": [
    "# This graphs dramatically illustrates that the majority of drivers in F1 are very low scoring,\n",
    "# and that rarely there are multiple high scoring drivers in a year."
   ]
  },
  {
   "cell_type": "code",
   "execution_count": 11,
   "metadata": {
    "tags": []
   },
   "outputs": [
    {
     "data": {
      "text/plain": [
       "<AxesSubplot:xlabel='Year'>"
      ]
     },
     "execution_count": 11,
     "metadata": {},
     "output_type": "execute_result"
    },
    {
     "data": {
      "image/png": "[encoded data removed]",
      "text/plain": [
       "<Figure size 1080x360 with 1 Axes>"
      ]
     },
     "metadata": {
      "needs_background": "light"
     },
     "output_type": "display_data"
    }
   ],
   "source": [
    "f1data.plot.bar(x=\"Year\",y=\"PTS\", figsize=(15,5))"
   ]
  },
  {
   "cell_type": "code",
   "execution_count": 12,
   "metadata": {
    "tags": []
   },
   "outputs": [],
   "source": [
    "# This graph clearly shows that in recent years, there have been more total points rewarded in series.\n",
    "# This agrees to indications in our initial research showing that there have been more races added in recent years."
   ]
  },
  {
   "cell_type": "code",
   "execution_count": 13,
   "metadata": {
    "tags": []
   },
   "outputs": [
    {
     "data": {
      "text/plain": [
       "<AxesSubplot:xlabel='Nationality', ylabel='PTS'>"
      ]
     },
     "execution_count": 13,
     "metadata": {},
     "output_type": "execute_result"
    },
    {
     "data": {
      "image/png": "[encoded data removed]",
      "text/plain": [
       "<Figure size 1080x360 with 1 Axes>"
      ]
     },
     "metadata": {
      "needs_background": "light"
     },
     "output_type": "display_data"
    }
   ],
   "source": [
    "f1data.plot.scatter(x=\"Nationality\", y=\"PTS\", figsize=(15,5))"
   ]
  },
  {
   "cell_type": "code",
   "execution_count": 14,
   "metadata": {
    "jupyter": {
     "source_hidden": true
    },
    "tags": []
   },
   "outputs": [],
   "source": [
    "# This graph breaks down the all time points of all nationalities in F1 pointing towards those which have scored\n",
    "# the most points."
   ]
  },
  {
   "cell_type": "code",
   "execution_count": 15,
   "metadata": {
    "tags": []
   },
   "outputs": [
    {
     "data": {
      "text/plain": [
       "<AxesSubplot:xlabel='Pos', ylabel='PTS'>"
      ]
     },
     "execution_count": 15,
     "metadata": {},
     "output_type": "execute_result"
    },
    {
     "data": {
      "image/png": "[encoded data removed]",
      "text/plain": [
       "<Figure size 720x360 with 1 Axes>"
      ]
     },
     "metadata": {
      "needs_background": "light"
     },
     "output_type": "display_data"
    }
   ],
   "source": [
    "f1data.plot.scatter(x=\"Pos\", y=\"PTS\", figsize=(10,5))"
   ]
  },
  {
   "cell_type": "code",
   "execution_count": 16,
   "metadata": {
    "jupyter": {
     "source_hidden": true
    },
    "tags": []
   },
   "outputs": [],
   "source": [
    "# This graph displays the total points scored by the varying positions each year. It should be noted that since\n",
    "# there is not a fixed number of racers every year, there are some positions that will not have scores each year.\n",
    "# There is notably a special consideration of a DQ, disqualification, one year."
   ]
  },
  {
   "cell_type": "code",
   "execution_count": 17,
   "metadata": {},
   "outputs": [],
   "source": [
    "## Milestone 3, Task 2"
   ]
  },
  {
   "cell_type": "code",
   "execution_count": 18,
   "metadata": {
    "tags": []
   },
   "outputs": [],
   "source": [
    "f1data.rename(columns={\"Car\": \"Team\", \"Pos\": \"Position\"}, inplace=True)"
   ]
  },
  {
   "cell_type": "code",
   "execution_count": 19,
   "metadata": {},
   "outputs": [
    {
     "name": "stdout",
     "output_type": "stream",
     "text": [
      "Preview of data with null values:\n",
      "    Position                  Driver Nationality Team   PTS  Year\n",
      "16        13     Dorino Serafini SER         ITA  NaN   3.0  1950\n",
      "17        13  Philippe Etancelin ETA         FRA  NaN   3.0  1950\n",
      "21        20      Eugene Chaboud CHA         FRA  NaN   1.0  1950\n",
      "35        12        Louis Rosier ROS         FRA  NaN   3.0  1951\n",
      "53        13         Ken Wharton WHA         GBR  NaN   3.0  1952\n",
      "309       18      Masten Gregory GRE         USA  NaN   0.0  1963\n",
      "314       18       Mike Hailwood HAI         GBR  NaN   0.0  1963\n",
      "446       13     Richard Attwood ATT         GBR  NaN   3.0  1969\n",
      "478        2     Ronnie Peterson PET         SWE  NaN  33.0  1971\n",
      "492       16        Mark Donohue DON         USA  NaN   4.0  1971\n",
      "493       16     Henri Pescarolo PES         FRA  NaN   4.0  1971\n"
     ]
    }
   ],
   "source": [
    "#Checking to see if there are any null values.\n",
    "f1data.isnull().any(axis=None)\n",
    "print(\"Preview of data with null values:\")\n",
    "print(f1data[f1data.isnull().any(axis=1)])\n",
    "plt.show()\n",
    "\n",
    "#Replacing the found null values in Team with Independant to accurately represent information.\n",
    "f1data[\"Team\"].fillna(\"Independant\", inplace=True)"
   ]
  },
  {
   "cell_type": "code",
   "execution_count": 20,
   "metadata": {},
   "outputs": [
    {
     "data": {
      "text/plain": [
       "Position                        13\n",
       "Driver         Dorino Serafini SER\n",
       "Nationality                    ITA\n",
       "Team                   Independant\n",
       "PTS                            3.0\n",
       "Year                          1950\n",
       "Name: 16, dtype: object"
      ]
     },
     "execution_count": 20,
     "metadata": {},
     "output_type": "execute_result"
    }
   ],
   "source": [
    "f1data.loc[16,:]"
   ]
  },
  {
   "cell_type": "code",
   "execution_count": 21,
   "metadata": {},
   "outputs": [],
   "source": [
    "# Checking dataframe for missing values. Since all missing values exist under team, \n",
    "# we completed this data by replacing NaN with \"Independant\" and then confirmed that this worked."
   ]
  },
  {
   "cell_type": "code",
   "execution_count": 22,
   "metadata": {},
   "outputs": [
    {
     "name": "stdout",
     "output_type": "stream",
     "text": [
      "There are no duplicates.\n"
     ]
    }
   ],
   "source": [
    "duplicateRowsDF = f1data[f1data.duplicated()]\n",
    "if duplicateRowsDF.empty:\n",
    "    print(\"There are no duplicates.\"),\n",
    "else:\n",
    "    print(\"Duplicate Rows except first occurrence based on all columns are:\")\n",
    "    print(duplicateRowsDF)"
   ]
  },
  {
   "cell_type": "code",
   "execution_count": 23,
   "metadata": {},
   "outputs": [
    {
     "name": "stdout",
     "output_type": "stream",
     "text": [
      ",\n"
     ]
    }
   ],
   "source": [
    "# Confirming what the current delimiter for our data is\n",
    "sniffer = csv.Sniffer()\n",
    "dialect = sniffer.sniff(\"first, second, third, fourth\")\n",
    "print(dialect.delimiter)"
   ]
  },
  {
   "cell_type": "code",
   "execution_count": 24,
   "metadata": {},
   "outputs": [],
   "source": [
    "# Correcting the incorrect formatting of Kimi's name\n",
    "f1data[\"Driver\"] = f1data[\"Driver\"].replace([\"Kimi RÃ¤ikkÃ¶nen RAI\"],\"Kimi Räikkönen RAI\")"
   ]
  },
  {
   "cell_type": "code",
   "execution_count": 27,
   "metadata": {},
   "outputs": [],
   "source": [
    "#This code seperated the Driver ID from the Driver.\n",
    "f1data[\"Driver_ID\"] = f1data[\"Driver\"].str[-3:]\n",
    "f1data[\"Driver2\"] = f1data[\"Driver\"].str[:-3]\n",
    "f1data = f1data.drop(columns=[\"Driver\"])\n",
    "f1data.rename(columns={\"Driver2\": \"Driver\"}, inplace=True)"
   ]
  },
  {
   "cell_type": "code",
   "execution_count": 28,
   "metadata": {},
   "outputs": [
    {
     "data": {
      "text/html": [
       "<div>\n",
       "<style scoped>\n",
       "    .dataframe tbody tr th:only-of-type {\n",
       "        vertical-align: middle;\n",
       "    }\n",
       "\n",
       "    .dataframe tbody tr th {\n",
       "        vertical-align: top;\n",
       "    }\n",
       "\n",
       "    .dataframe thead th {\n",
       "        text-align: right;\n",
       "    }\n",
       "</style>\n",
       "<table border=\"1\" class=\"dataframe\">\n",
       "  <thead>\n",
       "    <tr style=\"text-align: right;\">\n",
       "      <th></th>\n",
       "      <th>Driver</th>\n",
       "      <th>Driver_ID</th>\n",
       "      <th>Team</th>\n",
       "      <th>Nationality</th>\n",
       "      <th>PTS</th>\n",
       "      <th>Position</th>\n",
       "      <th>Year</th>\n",
       "    </tr>\n",
       "  </thead>\n",
       "  <tbody>\n",
       "    <tr>\n",
       "      <th>0</th>\n",
       "      <td>Nino Fari</td>\n",
       "      <td>na</td>\n",
       "      <td>Alfa Romeo</td>\n",
       "      <td>ITA</td>\n",
       "      <td>30.0</td>\n",
       "      <td>1</td>\n",
       "      <td>1950</td>\n",
       "    </tr>\n",
       "    <tr>\n",
       "      <th>1</th>\n",
       "      <td>Juan Manuel Fang</td>\n",
       "      <td>io</td>\n",
       "      <td>Alfa Romeo</td>\n",
       "      <td>ARG</td>\n",
       "      <td>27.0</td>\n",
       "      <td>2</td>\n",
       "      <td>1950</td>\n",
       "    </tr>\n",
       "    <tr>\n",
       "      <th>2</th>\n",
       "      <td>Luigi Fagio</td>\n",
       "      <td>li</td>\n",
       "      <td>Alfa Romeo</td>\n",
       "      <td>ITA</td>\n",
       "      <td>24.0</td>\n",
       "      <td>3</td>\n",
       "      <td>1950</td>\n",
       "    </tr>\n",
       "    <tr>\n",
       "      <th>3</th>\n",
       "      <td>Louis Rosi</td>\n",
       "      <td>er</td>\n",
       "      <td>Talbot-Lago</td>\n",
       "      <td>FRA</td>\n",
       "      <td>13.0</td>\n",
       "      <td>4</td>\n",
       "      <td>1950</td>\n",
       "    </tr>\n",
       "    <tr>\n",
       "      <th>4</th>\n",
       "      <td>Alberto Asca</td>\n",
       "      <td>ri</td>\n",
       "      <td>Ferrari</td>\n",
       "      <td>ITA</td>\n",
       "      <td>11.0</td>\n",
       "      <td>5</td>\n",
       "      <td>1950</td>\n",
       "    </tr>\n",
       "    <tr>\n",
       "      <th>...</th>\n",
       "      <td>...</td>\n",
       "      <td>...</td>\n",
       "      <td>...</td>\n",
       "      <td>...</td>\n",
       "      <td>...</td>\n",
       "      <td>...</td>\n",
       "      <td>...</td>\n",
       "    </tr>\n",
       "    <tr>\n",
       "      <th>1568</th>\n",
       "      <td>Kevin Magnuss</td>\n",
       "      <td>en</td>\n",
       "      <td>Haas Ferrari</td>\n",
       "      <td>DEN</td>\n",
       "      <td>1.0</td>\n",
       "      <td>17</td>\n",
       "      <td>2020</td>\n",
       "    </tr>\n",
       "    <tr>\n",
       "      <th>1569</th>\n",
       "      <td>Kimi Räikkön</td>\n",
       "      <td>en</td>\n",
       "      <td>Alfa Romeo Racing Ferrari</td>\n",
       "      <td>FIN</td>\n",
       "      <td>0.0</td>\n",
       "      <td>18</td>\n",
       "      <td>2020</td>\n",
       "    </tr>\n",
       "    <tr>\n",
       "      <th>1570</th>\n",
       "      <td>Nicholas Lati</td>\n",
       "      <td>fi</td>\n",
       "      <td>Williams Mercedes</td>\n",
       "      <td>CAN</td>\n",
       "      <td>0.0</td>\n",
       "      <td>19</td>\n",
       "      <td>2020</td>\n",
       "    </tr>\n",
       "    <tr>\n",
       "      <th>1571</th>\n",
       "      <td>George Russe</td>\n",
       "      <td>ll</td>\n",
       "      <td>Williams Mercedes</td>\n",
       "      <td>GBR</td>\n",
       "      <td>0.0</td>\n",
       "      <td>20</td>\n",
       "      <td>2020</td>\n",
       "    </tr>\n",
       "    <tr>\n",
       "      <th>1572</th>\n",
       "      <td>Romain Grosje</td>\n",
       "      <td>an</td>\n",
       "      <td>Haas Ferrari</td>\n",
       "      <td>FRA</td>\n",
       "      <td>0.0</td>\n",
       "      <td>21</td>\n",
       "      <td>2020</td>\n",
       "    </tr>\n",
       "  </tbody>\n",
       "</table>\n",
       "<p>1573 rows × 7 columns</p>\n",
       "</div>"
      ],
      "text/plain": [
       "                Driver Driver_ID                       Team Nationality   PTS  \\\n",
       "0            Nino Fari       na                  Alfa Romeo         ITA  30.0   \n",
       "1     Juan Manuel Fang       io                  Alfa Romeo         ARG  27.0   \n",
       "2          Luigi Fagio       li                  Alfa Romeo         ITA  24.0   \n",
       "3           Louis Rosi       er                 Talbot-Lago         FRA  13.0   \n",
       "4         Alberto Asca       ri                     Ferrari         ITA  11.0   \n",
       "...                ...       ...                        ...         ...   ...   \n",
       "1568     Kevin Magnuss       en                Haas Ferrari         DEN   1.0   \n",
       "1569      Kimi Räikkön       en   Alfa Romeo Racing Ferrari         FIN   0.0   \n",
       "1570     Nicholas Lati       fi           Williams Mercedes         CAN   0.0   \n",
       "1571      George Russe       ll           Williams Mercedes         GBR   0.0   \n",
       "1572     Romain Grosje       an                Haas Ferrari         FRA   0.0   \n",
       "\n",
       "     Position  Year  \n",
       "0           1  1950  \n",
       "1           2  1950  \n",
       "2           3  1950  \n",
       "3           4  1950  \n",
       "4           5  1950  \n",
       "...       ...   ...  \n",
       "1568       17  2020  \n",
       "1569       18  2020  \n",
       "1570       19  2020  \n",
       "1571       20  2020  \n",
       "1572       21  2020  \n",
       "\n",
       "[1573 rows x 7 columns]"
      ]
     },
     "execution_count": 28,
     "metadata": {},
     "output_type": "execute_result"
    }
   ],
   "source": [
    "#This reorgnaizes\n",
    "f1data = f1data[[\"Driver\", \"Driver_ID\", \"Team\", \"Nationality\", \"PTS\", \"Position\", \"Year\"]]\n",
    "f1data"
   ]
  },
  {
   "cell_type": "code",
   "execution_count": null,
   "metadata": {
    "tags": []
   },
   "outputs": [],
   "source": [
    "## Milestone 3, Task 3"
   ]
  },
  {
   "cell_type": "code",
   "execution_count": 30,
   "metadata": {},
   "outputs": [
    {
     "data": {
      "text/html": [
       "<div>\n",
       "<style scoped>\n",
       "    .dataframe tbody tr th:only-of-type {\n",
       "        vertical-align: middle;\n",
       "    }\n",
       "\n",
       "    .dataframe tbody tr th {\n",
       "        vertical-align: top;\n",
       "    }\n",
       "\n",
       "    .dataframe thead th {\n",
       "        text-align: right;\n",
       "    }\n",
       "</style>\n",
       "<table border=\"1\" class=\"dataframe\">\n",
       "  <thead>\n",
       "    <tr style=\"text-align: right;\">\n",
       "      <th></th>\n",
       "      <th>Driver</th>\n",
       "      <th>Driver_ID</th>\n",
       "      <th>Team</th>\n",
       "      <th>Nationality</th>\n",
       "      <th>PTS</th>\n",
       "      <th>Position</th>\n",
       "      <th>Year</th>\n",
       "    </tr>\n",
       "  </thead>\n",
       "  <tbody>\n",
       "    <tr>\n",
       "      <th>0</th>\n",
       "      <td>Nino Farina</td>\n",
       "      <td>FAR</td>\n",
       "      <td>Alfa Romeo</td>\n",
       "      <td>ITA</td>\n",
       "      <td>30.0</td>\n",
       "      <td>1</td>\n",
       "      <td>1950</td>\n",
       "    </tr>\n",
       "    <tr>\n",
       "      <th>1</th>\n",
       "      <td>Juan Manuel Fangio</td>\n",
       "      <td>FAN</td>\n",
       "      <td>Alfa Romeo</td>\n",
       "      <td>ARG</td>\n",
       "      <td>27.0</td>\n",
       "      <td>2</td>\n",
       "      <td>1950</td>\n",
       "    </tr>\n",
       "    <tr>\n",
       "      <th>2</th>\n",
       "      <td>Luigi Fagioli</td>\n",
       "      <td>FAG</td>\n",
       "      <td>Alfa Romeo</td>\n",
       "      <td>ITA</td>\n",
       "      <td>24.0</td>\n",
       "      <td>3</td>\n",
       "      <td>1950</td>\n",
       "    </tr>\n",
       "    <tr>\n",
       "      <th>3</th>\n",
       "      <td>Louis Rosier</td>\n",
       "      <td>ROS</td>\n",
       "      <td>Talbot-Lago</td>\n",
       "      <td>FRA</td>\n",
       "      <td>13.0</td>\n",
       "      <td>4</td>\n",
       "      <td>1950</td>\n",
       "    </tr>\n",
       "    <tr>\n",
       "      <th>4</th>\n",
       "      <td>Alberto Ascari</td>\n",
       "      <td>ASC</td>\n",
       "      <td>Ferrari</td>\n",
       "      <td>ITA</td>\n",
       "      <td>11.0</td>\n",
       "      <td>5</td>\n",
       "      <td>1950</td>\n",
       "    </tr>\n",
       "    <tr>\n",
       "      <th>...</th>\n",
       "      <td>...</td>\n",
       "      <td>...</td>\n",
       "      <td>...</td>\n",
       "      <td>...</td>\n",
       "      <td>...</td>\n",
       "      <td>...</td>\n",
       "      <td>...</td>\n",
       "    </tr>\n",
       "    <tr>\n",
       "      <th>1568</th>\n",
       "      <td>Kevin Magnussen</td>\n",
       "      <td>MAG</td>\n",
       "      <td>Haas Ferrari</td>\n",
       "      <td>DEN</td>\n",
       "      <td>1.0</td>\n",
       "      <td>17</td>\n",
       "      <td>2020</td>\n",
       "    </tr>\n",
       "    <tr>\n",
       "      <th>1569</th>\n",
       "      <td>Kimi Räikkönen</td>\n",
       "      <td>RAI</td>\n",
       "      <td>Alfa Romeo Racing Ferrari</td>\n",
       "      <td>FIN</td>\n",
       "      <td>0.0</td>\n",
       "      <td>18</td>\n",
       "      <td>2020</td>\n",
       "    </tr>\n",
       "    <tr>\n",
       "      <th>1570</th>\n",
       "      <td>Nicholas Latifi</td>\n",
       "      <td>LAT</td>\n",
       "      <td>Williams Mercedes</td>\n",
       "      <td>CAN</td>\n",
       "      <td>0.0</td>\n",
       "      <td>19</td>\n",
       "      <td>2020</td>\n",
       "    </tr>\n",
       "    <tr>\n",
       "      <th>1571</th>\n",
       "      <td>George Russell</td>\n",
       "      <td>RUS</td>\n",
       "      <td>Williams Mercedes</td>\n",
       "      <td>GBR</td>\n",
       "      <td>0.0</td>\n",
       "      <td>20</td>\n",
       "      <td>2020</td>\n",
       "    </tr>\n",
       "    <tr>\n",
       "      <th>1572</th>\n",
       "      <td>Romain Grosjean</td>\n",
       "      <td>GRO</td>\n",
       "      <td>Haas Ferrari</td>\n",
       "      <td>FRA</td>\n",
       "      <td>0.0</td>\n",
       "      <td>21</td>\n",
       "      <td>2020</td>\n",
       "    </tr>\n",
       "  </tbody>\n",
       "</table>\n",
       "<p>1573 rows × 7 columns</p>\n",
       "</div>"
      ],
      "text/plain": [
       "                   Driver Driver_ID                       Team Nationality  \\\n",
       "0            Nino Farina        FAR                 Alfa Romeo         ITA   \n",
       "1     Juan Manuel Fangio        FAN                 Alfa Romeo         ARG   \n",
       "2          Luigi Fagioli        FAG                 Alfa Romeo         ITA   \n",
       "3           Louis Rosier        ROS                Talbot-Lago         FRA   \n",
       "4         Alberto Ascari        ASC                    Ferrari         ITA   \n",
       "...                   ...       ...                        ...         ...   \n",
       "1568     Kevin Magnussen        MAG               Haas Ferrari         DEN   \n",
       "1569      Kimi Räikkönen        RAI  Alfa Romeo Racing Ferrari         FIN   \n",
       "1570     Nicholas Latifi        LAT          Williams Mercedes         CAN   \n",
       "1571      George Russell        RUS          Williams Mercedes         GBR   \n",
       "1572     Romain Grosjean        GRO               Haas Ferrari         FRA   \n",
       "\n",
       "       PTS Position  Year  \n",
       "0     30.0        1  1950  \n",
       "1     27.0        2  1950  \n",
       "2     24.0        3  1950  \n",
       "3     13.0        4  1950  \n",
       "4     11.0        5  1950  \n",
       "...    ...      ...   ...  \n",
       "1568   1.0       17  2020  \n",
       "1569   0.0       18  2020  \n",
       "1570   0.0       19  2020  \n",
       "1571   0.0       20  2020  \n",
       "1572   0.0       21  2020  \n",
       "\n",
       "[1573 rows x 7 columns]"
      ]
     },
     "execution_count": 30,
     "metadata": {},
     "output_type": "execute_result"
    }
   ],
   "source": [
    "def load_and_process(csv_file):\n",
    "\n",
    "    # Method Chain 1 (Load data and deal with missing data)\n",
    "\n",
    "    df1 = (\n",
    "        pd.read_csv(csv_file)\n",
    "        .rename(columns={\"Car\": \"Team\", \"Pos\": \"Position\"})\n",
    "        .fillna(\"Independant\")\n",
    "        .replace([\"Kimi RÃ¤ikkÃ¶nen RAI\"],\"Kimi Räikkönen RAI\")\n",
    "        \n",
    "        )\n",
    "\n",
    "    # Method Chain 2 (Create new columns, drop others, and do processing)\n",
    "\n",
    "    df2 = (\n",
    "        df1\n",
    "        .assign(Driver_ID = df1[\"Driver\"].str[-3:],Driver2 = df1[\"Driver\"].str[:-3])\n",
    "        .drop(columns=[\"Driver\"])\n",
    "        .rename(columns={\"Driver2\": \"Driver\"})\n",
    "        [[\"Driver\", \"Driver_ID\", \"Team\", \"Nationality\", \"PTS\", \"Position\", \"Year\"]]\n",
    "      )\n",
    "\n",
    "    # Make sure to return the latest dataframe\n",
    "\n",
    "    return df2 \n",
    "\n",
    "\n",
    "load_and_process(\"../f1data.csv\")"
   ]
  }
 ],
 "metadata": {
  "kernelspec": {
   "display_name": "Python 3 (ipykernel)",
   "language": "python",
   "name": "python3"
  },
  "language_info": {
   "codemirror_mode": {
    "name": "ipython",
    "version": 3
   },
   "file_extension": ".py",
   "mimetype": "text/x-python",
   "name": "python",
   "nbconvert_exporter": "python",
   "pygments_lexer": "ipython3",
   "version": "3.9.5"
  }
 },
 "nbformat": 4,
 "nbformat_minor": 4
}
