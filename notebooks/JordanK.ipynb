{
 "cells": [
  {
   "cell_type": "markdown",
   "metadata": {},
   "source": [
<<<<<<< HEAD
    "# Your Name Here"
=======
    "# Jordan King"
>>>>>>> cd51f9721feea8118c434661f572e45ac7775783
   ]
  },
  {
   "cell_type": "markdown",
   "metadata": {},
   "source": [
    "## Research question/interests\r\n",
<<<<<<< HEAD
    "\r\n",
    "Briefly describe your research question or interests here."
=======
    "I want to compare the point distrubtion among teams each year and see the impact that nationality has on scores.e."
   ]
  },
  {
   "cell_type": "code",
   "execution_count": 4,
   "metadata": {},
   "outputs": [],
   "source": [
    "import pandas as pd"
   ]
  },
  {
   "cell_type": "code",
   "execution_count": 6,
   "metadata": {},
   "outputs": [
    {
     "name": "stdout",
     "output_type": "stream",
     "text": [
      "1.3.2\n"
     ]
    }
   ],
   "source": [
    "print(pd.__version__)"
   ]
  },
  {
   "cell_type": "code",
   "execution_count": 8,
   "metadata": {},
   "outputs": [],
   "source": [
    "f1data = pd.read_csv(\"../f1data.csv\")"
   ]
  },
  {
   "cell_type": "code",
   "execution_count": 9,
   "metadata": {},
   "outputs": [
    {
     "data": {
      "text/html": [
       "<div>\n",
       "<style scoped>\n",
       "    .dataframe tbody tr th:only-of-type {\n",
       "        vertical-align: middle;\n",
       "    }\n",
       "\n",
       "    .dataframe tbody tr th {\n",
       "        vertical-align: top;\n",
       "    }\n",
       "\n",
       "    .dataframe thead th {\n",
       "        text-align: right;\n",
       "    }\n",
       "</style>\n",
       "<table border=\"1\" class=\"dataframe\">\n",
       "  <thead>\n",
       "    <tr style=\"text-align: right;\">\n",
       "      <th></th>\n",
       "      <th>Pos</th>\n",
       "      <th>Driver</th>\n",
       "      <th>Nationality</th>\n",
       "      <th>Car</th>\n",
       "      <th>PTS</th>\n",
       "      <th>Year</th>\n",
       "    </tr>\n",
       "  </thead>\n",
       "  <tbody>\n",
       "    <tr>\n",
       "      <th>0</th>\n",
       "      <td>1</td>\n",
       "      <td>Nino Farina FAR</td>\n",
       "      <td>ITA</td>\n",
       "      <td>Alfa Romeo</td>\n",
       "      <td>30.0</td>\n",
       "      <td>1950</td>\n",
       "    </tr>\n",
       "    <tr>\n",
       "      <th>1</th>\n",
       "      <td>2</td>\n",
       "      <td>Juan Manuel Fangio FAN</td>\n",
       "      <td>ARG</td>\n",
       "      <td>Alfa Romeo</td>\n",
       "      <td>27.0</td>\n",
       "      <td>1950</td>\n",
       "    </tr>\n",
       "    <tr>\n",
       "      <th>2</th>\n",
       "      <td>3</td>\n",
       "      <td>Luigi Fagioli FAG</td>\n",
       "      <td>ITA</td>\n",
       "      <td>Alfa Romeo</td>\n",
       "      <td>24.0</td>\n",
       "      <td>1950</td>\n",
       "    </tr>\n",
       "    <tr>\n",
       "      <th>3</th>\n",
       "      <td>4</td>\n",
       "      <td>Louis Rosier ROS</td>\n",
       "      <td>FRA</td>\n",
       "      <td>Talbot-Lago</td>\n",
       "      <td>13.0</td>\n",
       "      <td>1950</td>\n",
       "    </tr>\n",
       "    <tr>\n",
       "      <th>4</th>\n",
       "      <td>5</td>\n",
       "      <td>Alberto Ascari ASC</td>\n",
       "      <td>ITA</td>\n",
       "      <td>Ferrari</td>\n",
       "      <td>11.0</td>\n",
       "      <td>1950</td>\n",
       "    </tr>\n",
       "    <tr>\n",
       "      <th>...</th>\n",
       "      <td>...</td>\n",
       "      <td>...</td>\n",
       "      <td>...</td>\n",
       "      <td>...</td>\n",
       "      <td>...</td>\n",
       "      <td>...</td>\n",
       "    </tr>\n",
       "    <tr>\n",
       "      <th>1568</th>\n",
       "      <td>17</td>\n",
       "      <td>Kevin Magnussen MAG</td>\n",
       "      <td>DEN</td>\n",
       "      <td>Haas Ferrari</td>\n",
       "      <td>1.0</td>\n",
       "      <td>2020</td>\n",
       "    </tr>\n",
       "    <tr>\n",
       "      <th>1569</th>\n",
       "      <td>18</td>\n",
       "      <td>Kimi RÃ¤ikkÃ¶nen RAI</td>\n",
       "      <td>FIN</td>\n",
       "      <td>Alfa Romeo Racing Ferrari</td>\n",
       "      <td>0.0</td>\n",
       "      <td>2020</td>\n",
       "    </tr>\n",
       "    <tr>\n",
       "      <th>1570</th>\n",
       "      <td>19</td>\n",
       "      <td>Nicholas Latifi LAT</td>\n",
       "      <td>CAN</td>\n",
       "      <td>Williams Mercedes</td>\n",
       "      <td>0.0</td>\n",
       "      <td>2020</td>\n",
       "    </tr>\n",
       "    <tr>\n",
       "      <th>1571</th>\n",
       "      <td>20</td>\n",
       "      <td>George Russell RUS</td>\n",
       "      <td>GBR</td>\n",
       "      <td>Williams Mercedes</td>\n",
       "      <td>0.0</td>\n",
       "      <td>2020</td>\n",
       "    </tr>\n",
       "    <tr>\n",
       "      <th>1572</th>\n",
       "      <td>21</td>\n",
       "      <td>Romain Grosjean GRO</td>\n",
       "      <td>FRA</td>\n",
       "      <td>Haas Ferrari</td>\n",
       "      <td>0.0</td>\n",
       "      <td>2020</td>\n",
       "    </tr>\n",
       "  </tbody>\n",
       "</table>\n",
       "<p>1573 rows × 6 columns</p>\n",
       "</div>"
      ],
      "text/plain": [
       "     Pos                  Driver Nationality                        Car   PTS  \\\n",
       "0      1         Nino Farina FAR         ITA                 Alfa Romeo  30.0   \n",
       "1      2  Juan Manuel Fangio FAN         ARG                 Alfa Romeo  27.0   \n",
       "2      3       Luigi Fagioli FAG         ITA                 Alfa Romeo  24.0   \n",
       "3      4        Louis Rosier ROS         FRA                Talbot-Lago  13.0   \n",
       "4      5      Alberto Ascari ASC         ITA                    Ferrari  11.0   \n",
       "...   ..                     ...         ...                        ...   ...   \n",
       "1568  17     Kevin Magnussen MAG         DEN               Haas Ferrari   1.0   \n",
       "1569  18    Kimi RÃ¤ikkÃ¶nen RAI         FIN  Alfa Romeo Racing Ferrari   0.0   \n",
       "1570  19     Nicholas Latifi LAT         CAN          Williams Mercedes   0.0   \n",
       "1571  20      George Russell RUS         GBR          Williams Mercedes   0.0   \n",
       "1572  21     Romain Grosjean GRO         FRA               Haas Ferrari   0.0   \n",
       "\n",
       "      Year  \n",
       "0     1950  \n",
       "1     1950  \n",
       "2     1950  \n",
       "3     1950  \n",
       "4     1950  \n",
       "...    ...  \n",
       "1568  2020  \n",
       "1569  2020  \n",
       "1570  2020  \n",
       "1571  2020  \n",
       "1572  2020  \n",
       "\n",
       "[1573 rows x 6 columns]"
      ]
     },
     "execution_count": 9,
     "metadata": {},
     "output_type": "execute_result"
    }
   ],
   "source": [
    "f1data"
>>>>>>> cd51f9721feea8118c434661f572e45ac7775783
   ]
  }
 ],
 "metadata": {
  "kernelspec": {
   "display_name": "Python 3 (ipykernel)",
   "language": "python",
   "name": "python3"
  },
  "language_info": {
   "codemirror_mode": {
    "name": "ipython",
    "version": 3
   },
   "file_extension": ".py",
   "mimetype": "text/x-python",
   "name": "python",
   "nbconvert_exporter": "python",
   "pygments_lexer": "ipython3",
   "version": "3.9.5"
  }
 },
 "nbformat": 4,
 "nbformat_minor": 4
}
