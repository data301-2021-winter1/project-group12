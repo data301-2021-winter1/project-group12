{
 "cells": [
  {
   "cell_type": "markdown",
   "metadata": {},
   "source": [
    "Jordan King"
   ]
  },
  {
   "cell_type": "markdown",
   "metadata": {},
   "source": [
    "# Research question/interests\r",
    "I want to examine the point distributions through the years and evaluate the impact that nationality may have on scores.."
   ]
  },
  {
   "cell_type": "code",
   "execution_count": 1,
   "metadata": {},
   "outputs": [],
   "source": [
    "import pandas as pd\n",
    "import numpy as np\n",
    "import matplotlib.pylab as plt\n",
    "import seaborn as sns\n",
    "import csv"
   ]
  },
  {
   "cell_type": "code",
   "execution_count": 2,
   "metadata": {
    "jp-MarkdownHeadingCollapsed": true,
    "tags": []
   },
   "outputs": [],
   "source": [
    "f1data = pd.read_csv(\"../data/raw/f1data.csv\")"
   ]
  },
  {
   "cell_type": "markdown",
   "metadata": {},
   "source": [
    "## Milestone 3, Task 1"
   ]
  },
  {
   "cell_type": "code",
   "execution_count": 3,
   "metadata": {},
   "outputs": [
    {
     "data": {
      "text/plain": [
       "(1573, 6)"
      ]
     },
     "execution_count": 3,
     "metadata": {},
     "output_type": "execute_result"
    }
   ],
   "source": [
    "f1data.shape"
   ]
  },
  {
   "cell_type": "markdown",
   "metadata": {},
   "source": [
    "This lets me know that our data has 1573 rows of data with 6 keys (unique columns)."
   ]
  },
  {
   "cell_type": "code",
   "execution_count": 4,
   "metadata": {},
   "outputs": [
    {
     "data": {
      "text/plain": [
       "Index(['Pos', 'Driver', 'Nationality', 'Car', 'PTS', 'Year'], dtype='object')"
      ]
     },
     "execution_count": 4,
     "metadata": {},
     "output_type": "execute_result"
    }
   ],
   "source": [
    "f1data.columns"
   ]
  },
  {
   "cell_type": "code",
   "execution_count": 5,
   "metadata": {
    "tags": []
   },
   "outputs": [
    {
     "data": {
      "text/html": [
       "<div>\n",
       "<style scoped>\n",
       "    .dataframe tbody tr th:only-of-type {\n",
       "        vertical-align: middle;\n",
       "    }\n",
       "\n",
       "    .dataframe tbody tr th {\n",
       "        vertical-align: top;\n",
       "    }\n",
       "\n",
       "    .dataframe thead th {\n",
       "        text-align: right;\n",
       "    }\n",
       "</style>\n",
       "<table border=\"1\" class=\"dataframe\">\n",
       "  <thead>\n",
       "    <tr style=\"text-align: right;\">\n",
       "      <th></th>\n",
       "      <th>PTS</th>\n",
       "      <th>Year</th>\n",
       "    </tr>\n",
       "  </thead>\n",
       "  <tbody>\n",
       "    <tr>\n",
       "      <th>count</th>\n",
       "      <td>1573.000000</td>\n",
       "      <td>1573.000000</td>\n",
       "    </tr>\n",
       "    <tr>\n",
       "      <th>mean</th>\n",
       "      <td>27.207883</td>\n",
       "      <td>1985.148760</td>\n",
       "    </tr>\n",
       "    <tr>\n",
       "      <th>std</th>\n",
       "      <td>52.585197</td>\n",
       "      <td>20.744311</td>\n",
       "    </tr>\n",
       "    <tr>\n",
       "      <th>min</th>\n",
       "      <td>0.000000</td>\n",
       "      <td>1950.000000</td>\n",
       "    </tr>\n",
       "    <tr>\n",
       "      <th>25%</th>\n",
       "      <td>3.000000</td>\n",
       "      <td>1967.000000</td>\n",
       "    </tr>\n",
       "    <tr>\n",
       "      <th>50%</th>\n",
       "      <td>8.000000</td>\n",
       "      <td>1985.000000</td>\n",
       "    </tr>\n",
       "    <tr>\n",
       "      <th>75%</th>\n",
       "      <td>28.000000</td>\n",
       "      <td>2004.000000</td>\n",
       "    </tr>\n",
       "    <tr>\n",
       "      <th>max</th>\n",
       "      <td>413.000000</td>\n",
       "      <td>2020.000000</td>\n",
       "    </tr>\n",
       "  </tbody>\n",
       "</table>\n",
       "</div>"
      ],
      "text/plain": [
       "               PTS         Year\n",
       "count  1573.000000  1573.000000\n",
       "mean     27.207883  1985.148760\n",
       "std      52.585197    20.744311\n",
       "min       0.000000  1950.000000\n",
       "25%       3.000000  1967.000000\n",
       "50%       8.000000  1985.000000\n",
       "75%      28.000000  2004.000000\n",
       "max     413.000000  2020.000000"
      ]
     },
     "execution_count": 5,
     "metadata": {},
     "output_type": "execute_result"
    }
   ],
   "source": [
    "f1data.describe().apply(lambda s: s.apply(lambda x: format(x, 'f')))"
   ]
  },
  {
   "cell_type": "code",
   "execution_count": 6,
   "metadata": {},
   "outputs": [
    {
     "data": {
      "image/png": "[encoded data removed]",
      "text/plain": [
       "<Figure size 432x432 with 3 Axes>"
      ]
     },
     "metadata": {
      "needs_background": "light"
     },
     "output_type": "display_data"
    }
   ],
   "source": [
    "hex=sns.jointplot(x=f1data[\"Year\"], y=f1data[\"PTS\"], kind=\"hex\")\n",
    "hex.fig.suptitle(\"Frequency of Points Scored\")\n",
    "hex.fig.tight_layout()\n",
    "hex.fig.subplots_adjust(top=0.95)"
   ]
  },
  {
   "cell_type": "markdown",
   "metadata": {
    "tags": []
   },
   "source": [
    "This graphs dramatically illustrates that the majority of drivers in F1 are very low scoring, and that rarely there are multiple high scoring drivers in a year. We can also see that before around 1990, there was no frequency of points scored over 100 but after 1990, it becomes much more frequent."
   ]
  },
  {
   "cell_type": "code",
   "execution_count": 7,
   "metadata": {},
   "outputs": [
    {
     "data": {
      "image/png": "[encoded data removed]",
      "text/plain": [
       "<Figure size 2520x720 with 1 Axes>"
      ]
     },
     "metadata": {
      "needs_background": "light"
     },
     "output_type": "display_data"
    }
   ],
   "source": [
    "p= sns.barplot(x=\"Year\", y=\"PTS\", data=f1data)\n",
    "p.set(ylabel=\"Points\", title=\"Point Distribution\")\n",
    "p.figure.set_size_inches(35,10)"
   ]
  },
  {
   "cell_type": "markdown",
   "metadata": {
    "tags": []
   },
   "source": [
    "This graph clearly shows that in recent years, there have been more total points rewarded in series. This agrees to indications in our initial research showing that there have been more races added in recent years. It also shows that the biggest jump is between 2009 and 2010, where the average points increases drastically. We can also see that 2020 appears to be an outlier, this can be due to the fact that at the time of this dataset, the 2020 F1 season had not yet concluded."
   ]
  },
  {
   "cell_type": "code",
   "execution_count": 8,
   "metadata": {},
   "outputs": [
    {
     "data": {
      "image/png": "[encoded data removed]",
      "text/plain": [
       "<Figure size 1080x360 with 1 Axes>"
      ]
     },
     "metadata": {
      "needs_background": "light"
     },
     "output_type": "display_data"
    }
   ],
   "source": [
    "s=sns.scatterplot(data=f1data, x=\"Nationality\", y=\"PTS\")\n",
    "s.set(ylabel=\"Points\", title=\"Points by Nationality\")\n",
    "s.figure.set_size_inches(15,5)"
   ]
  },
  {
   "cell_type": "markdown",
   "metadata": {
    "tags": []
   },
   "source": [
    "This graph breaks down the all time points of all nationalities in F1 pointing towards those which have scored the most points. We can see that GBR (Great Britian), GER (Germany), and FIN (Finland) are the top three highest scoring nationalies but they also appear to have the most data points."
   ]
  },
  {
   "cell_type": "code",
   "execution_count": 9,
   "metadata": {},
   "outputs": [
    {
     "data": {
      "image/png": "[encoded data removed]",
      "text/plain": [
       "<Figure size 1080x360 with 1 Axes>"
      ]
     },
     "metadata": {
      "needs_background": "light"
     },
     "output_type": "display_data"
    }
   ],
   "source": [
    "c = sns.countplot(x=\"Nationality\", data=f1data)\n",
    "c.set(ylabel=\"Number of Drivers\", title=\"Frequency of Drivers by Nationality\")\n",
    "c.figure.set_size_inches(15,5)"
   ]
  },
  {
   "cell_type": "markdown",
   "metadata": {},
   "source": [
    "Expanding on the previous graph, I wanted to explore how many data points existed for each Nationality. This is important as it indicates how many drivers raced for each nationality. We can see that similarily, Great Britian has the highest number of drivers with over 250 but Germany and Finland have a much lower number of drivers. Instead ITA (Italy), FRA (France), and USA (United States) have a much higher number of drivers in comparison."
   ]
  },
  {
   "cell_type": "code",
   "execution_count": 10,
   "metadata": {},
   "outputs": [
    {
     "data": {
      "image/png": "[encoded data removed]",
      "text/plain": [
       "<Figure size 720x360 with 1 Axes>"
      ]
     },
     "metadata": {
      "needs_background": "light"
     },
     "output_type": "display_data"
    }
   ],
   "source": [
    "s2=sns.stripplot(data=f1data, x=\"Pos\", y=\"PTS\",order=['1','2','3','4','5','6','7','8','9','10','11','12','13','14','15','16','17','18','19','20','21','22','23','24','25','26','27','28','DQ'])\n",
    "s2.set(xlabel=\"Position\", ylabel=\"Points\", title=\"Points per Position\")\n",
    "s2.figure.set_size_inches(10,5)"
   ]
  },
  {
   "cell_type": "markdown",
   "metadata": {
    "tags": []
   },
   "source": [
    "This graph displays the total points scored by the varying positions each year. It should be noted that since there is not a fixed number of racers every year, there are some positions that will not have scores each year. There is also notably a special consideration of a DQ, disqualification, one year. As expected, we can see that there are a higher number of points distributed to the higher positions which makes sense considering it is the reward for earning the position. It is interesting however, that there almost appears to be 2 unique patterns between position 1 and 10. We can see the lower portion which is much more saturated and 1 is around 150, and an upper portion which is less saturated and 1 is around 400. Based on our earlier graph which should that after 2010, there was a higher point average, we can theorize that the lower portion of this graph is the earlier years of F1, and the upper portion is years after 2010."
   ]
  },
  {
   "cell_type": "markdown",
   "metadata": {},
   "source": [
    "## Milestone 3, Task 2"
   ]
  },
  {
   "cell_type": "code",
   "execution_count": 11,
   "metadata": {
    "tags": []
   },
   "outputs": [],
   "source": [
    "f1data.rename(columns={\"Car\": \"Team\", \"Pos\": \"Position\"}, inplace=True)"
   ]
  },
  {
   "cell_type": "markdown",
   "metadata": {},
   "source": [
    "Checking to see if there are any null values."
   ]
  },
  {
   "cell_type": "code",
   "execution_count": 12,
   "metadata": {},
   "outputs": [
    {
     "name": "stdout",
     "output_type": "stream",
     "text": [
      "Preview of data with null values:\n",
      "    Position                  Driver Nationality Team   PTS  Year\n",
      "16        13     Dorino Serafini SER         ITA  NaN   3.0  1950\n",
      "17        13  Philippe Etancelin ETA         FRA  NaN   3.0  1950\n",
      "21        20      Eugene Chaboud CHA         FRA  NaN   1.0  1950\n",
      "35        12        Louis Rosier ROS         FRA  NaN   3.0  1951\n",
      "53        13         Ken Wharton WHA         GBR  NaN   3.0  1952\n",
      "309       18      Masten Gregory GRE         USA  NaN   0.0  1963\n",
      "314       18       Mike Hailwood HAI         GBR  NaN   0.0  1963\n",
      "446       13     Richard Attwood ATT         GBR  NaN   3.0  1969\n",
      "478        2     Ronnie Peterson PET         SWE  NaN  33.0  1971\n",
      "492       16        Mark Donohue DON         USA  NaN   4.0  1971\n",
      "493       16     Henri Pescarolo PES         FRA  NaN   4.0  1971\n"
     ]
    }
   ],
   "source": [
    "f1data.isnull().any(axis=None)\n",
    "print(\"Preview of data with null values:\")\n",
    "print(f1data[f1data.isnull().any(axis=1)])\n",
    "plt.show()"
   ]
  },
  {
   "cell_type": "markdown",
   "metadata": {},
   "source": [
    "Since we can see that the only null values are in the Team column, we know that these drivers raced independantly and therefore did not belong to a team. We replace these null values instead with \"Independant\" to accurately represent the data."
   ]
  },
  {
   "cell_type": "code",
   "execution_count": 13,
   "metadata": {},
   "outputs": [],
   "source": [
    "f1data[\"Team\"].fillna(\"Independant\", inplace=True)"
   ]
  },
  {
   "cell_type": "markdown",
   "metadata": {},
   "source": [
    "We then check an example of an entry that previously had a null value to confirm that it worked as expected."
   ]
  },
  {
   "cell_type": "code",
   "execution_count": 14,
   "metadata": {},
   "outputs": [
    {
     "data": {
      "text/plain": [
       "Position                        13\n",
       "Driver         Dorino Serafini SER\n",
       "Nationality                    ITA\n",
       "Team                   Independant\n",
       "PTS                            3.0\n",
       "Year                          1950\n",
       "Name: 16, dtype: object"
      ]
     },
     "execution_count": 14,
     "metadata": {},
     "output_type": "execute_result"
    }
   ],
   "source": [
    "f1data.loc[16,:]"
   ]
  },
  {
   "cell_type": "markdown",
   "metadata": {},
   "source": [
    "Checking to see if there are any duplicate entries in our dataset."
   ]
  },
  {
   "cell_type": "code",
   "execution_count": 15,
   "metadata": {},
   "outputs": [
    {
     "name": "stdout",
     "output_type": "stream",
     "text": [
      "There are no duplicates.\n"
     ]
    }
   ],
   "source": [
    "duplicateRowsDF = f1data[f1data.duplicated()]\n",
    "if duplicateRowsDF.empty:\n",
    "    print(\"There are no duplicates.\"),\n",
    "else:\n",
    "    print(\"Duplicate Rows except first occurrence based on all columns are:\")\n",
    "    print(duplicateRowsDF)"
   ]
  },
  {
   "cell_type": "markdown",
   "metadata": {},
   "source": [
    "Checking to see what the current delimiter for our data is."
   ]
  },
  {
   "cell_type": "code",
   "execution_count": 16,
   "metadata": {},
   "outputs": [
    {
     "name": "stdout",
     "output_type": "stream",
     "text": [
      ",\n"
     ]
    }
   ],
   "source": [
    "sniffer = csv.Sniffer()\n",
    "dialect = sniffer.sniff(\"first, second, third, fourth\")\n",
    "print(dialect.delimiter)"
   ]
  },
  {
   "cell_type": "markdown",
   "metadata": {},
   "source": [
    "Since in our inital scan of the dataset, we could see that there was an outstanding error with the name of one driver. We corrected the formatting of his name throughout the dataset."
   ]
  },
  {
   "cell_type": "code",
   "execution_count": 17,
   "metadata": {},
   "outputs": [],
   "source": [
    "f1data[\"Driver\"] = f1data[\"Driver\"].replace([\"Kimi RÃ¤ikkÃ¶nen RAI\"],\"Kimi Räikkönen RAI\")"
   ]
  },
  {
   "cell_type": "markdown",
   "metadata": {},
   "source": [
    "We want to seperate the Driver ID from the Driver column as they are currently grouped. Add a new column for the Driver ID's."
   ]
  },
  {
   "cell_type": "code",
   "execution_count": 18,
   "metadata": {},
   "outputs": [],
   "source": [
    "f1data[\"Driver_ID\"] = f1data[\"Driver\"].str[-3:]\n",
    "f1data[\"Driver2\"] = f1data[\"Driver\"].str[:-3]\n",
    "f1data = f1data.drop(columns=[\"Driver\"])\n",
    "f1data.rename(columns={\"Driver2\": \"Driver\"}, inplace=True)"
   ]
  },
  {
   "cell_type": "markdown",
   "metadata": {},
   "source": [
    "Reorganize columns to be in the most logical order."
   ]
  },
  {
   "cell_type": "code",
   "execution_count": 19,
   "metadata": {},
   "outputs": [
    {
     "data": {
      "text/html": [
       "<div>\n",
       "<style scoped>\n",
       "    .dataframe tbody tr th:only-of-type {\n",
       "        vertical-align: middle;\n",
       "    }\n",
       "\n",
       "    .dataframe tbody tr th {\n",
       "        vertical-align: top;\n",
       "    }\n",
       "\n",
       "    .dataframe thead th {\n",
       "        text-align: right;\n",
       "    }\n",
       "</style>\n",
       "<table border=\"1\" class=\"dataframe\">\n",
       "  <thead>\n",
       "    <tr style=\"text-align: right;\">\n",
       "      <th></th>\n",
       "      <th>Driver</th>\n",
       "      <th>Driver_ID</th>\n",
       "      <th>Team</th>\n",
       "      <th>Nationality</th>\n",
       "      <th>PTS</th>\n",
       "      <th>Position</th>\n",
       "      <th>Year</th>\n",
       "    </tr>\n",
       "  </thead>\n",
       "  <tbody>\n",
       "    <tr>\n",
       "      <th>0</th>\n",
       "      <td>Nino Farina</td>\n",
       "      <td>FAR</td>\n",
       "      <td>Alfa Romeo</td>\n",
       "      <td>ITA</td>\n",
       "      <td>30.0</td>\n",
       "      <td>1</td>\n",
       "      <td>1950</td>\n",
       "    </tr>\n",
       "    <tr>\n",
       "      <th>1</th>\n",
       "      <td>Juan Manuel Fangio</td>\n",
       "      <td>FAN</td>\n",
       "      <td>Alfa Romeo</td>\n",
       "      <td>ARG</td>\n",
       "      <td>27.0</td>\n",
       "      <td>2</td>\n",
       "      <td>1950</td>\n",
       "    </tr>\n",
       "    <tr>\n",
       "      <th>2</th>\n",
       "      <td>Luigi Fagioli</td>\n",
       "      <td>FAG</td>\n",
       "      <td>Alfa Romeo</td>\n",
       "      <td>ITA</td>\n",
       "      <td>24.0</td>\n",
       "      <td>3</td>\n",
       "      <td>1950</td>\n",
       "    </tr>\n",
       "    <tr>\n",
       "      <th>3</th>\n",
       "      <td>Louis Rosier</td>\n",
       "      <td>ROS</td>\n",
       "      <td>Talbot-Lago</td>\n",
       "      <td>FRA</td>\n",
       "      <td>13.0</td>\n",
       "      <td>4</td>\n",
       "      <td>1950</td>\n",
       "    </tr>\n",
       "    <tr>\n",
       "      <th>4</th>\n",
       "      <td>Alberto Ascari</td>\n",
       "      <td>ASC</td>\n",
       "      <td>Ferrari</td>\n",
       "      <td>ITA</td>\n",
       "      <td>11.0</td>\n",
       "      <td>5</td>\n",
       "      <td>1950</td>\n",
       "    </tr>\n",
       "    <tr>\n",
       "      <th>...</th>\n",
       "      <td>...</td>\n",
       "      <td>...</td>\n",
       "      <td>...</td>\n",
       "      <td>...</td>\n",
       "      <td>...</td>\n",
       "      <td>...</td>\n",
       "      <td>...</td>\n",
       "    </tr>\n",
       "    <tr>\n",
       "      <th>1568</th>\n",
       "      <td>Kevin Magnussen</td>\n",
       "      <td>MAG</td>\n",
       "      <td>Haas Ferrari</td>\n",
       "      <td>DEN</td>\n",
       "      <td>1.0</td>\n",
       "      <td>17</td>\n",
       "      <td>2020</td>\n",
       "    </tr>\n",
       "    <tr>\n",
       "      <th>1569</th>\n",
       "      <td>Kimi Räikkönen</td>\n",
       "      <td>RAI</td>\n",
       "      <td>Alfa Romeo Racing Ferrari</td>\n",
       "      <td>FIN</td>\n",
       "      <td>0.0</td>\n",
       "      <td>18</td>\n",
       "      <td>2020</td>\n",
       "    </tr>\n",
       "    <tr>\n",
       "      <th>1570</th>\n",
       "      <td>Nicholas Latifi</td>\n",
       "      <td>LAT</td>\n",
       "      <td>Williams Mercedes</td>\n",
       "      <td>CAN</td>\n",
       "      <td>0.0</td>\n",
       "      <td>19</td>\n",
       "      <td>2020</td>\n",
       "    </tr>\n",
       "    <tr>\n",
       "      <th>1571</th>\n",
       "      <td>George Russell</td>\n",
       "      <td>RUS</td>\n",
       "      <td>Williams Mercedes</td>\n",
       "      <td>GBR</td>\n",
       "      <td>0.0</td>\n",
       "      <td>20</td>\n",
       "      <td>2020</td>\n",
       "    </tr>\n",
       "    <tr>\n",
       "      <th>1572</th>\n",
       "      <td>Romain Grosjean</td>\n",
       "      <td>GRO</td>\n",
       "      <td>Haas Ferrari</td>\n",
       "      <td>FRA</td>\n",
       "      <td>0.0</td>\n",
       "      <td>21</td>\n",
       "      <td>2020</td>\n",
       "    </tr>\n",
       "  </tbody>\n",
       "</table>\n",
       "<p>1573 rows × 7 columns</p>\n",
       "</div>"
      ],
      "text/plain": [
       "                   Driver Driver_ID                       Team Nationality  \\\n",
       "0            Nino Farina        FAR                 Alfa Romeo         ITA   \n",
       "1     Juan Manuel Fangio        FAN                 Alfa Romeo         ARG   \n",
       "2          Luigi Fagioli        FAG                 Alfa Romeo         ITA   \n",
       "3           Louis Rosier        ROS                Talbot-Lago         FRA   \n",
       "4         Alberto Ascari        ASC                    Ferrari         ITA   \n",
       "...                   ...       ...                        ...         ...   \n",
       "1568     Kevin Magnussen        MAG               Haas Ferrari         DEN   \n",
       "1569      Kimi Räikkönen        RAI  Alfa Romeo Racing Ferrari         FIN   \n",
       "1570     Nicholas Latifi        LAT          Williams Mercedes         CAN   \n",
       "1571      George Russell        RUS          Williams Mercedes         GBR   \n",
       "1572     Romain Grosjean        GRO               Haas Ferrari         FRA   \n",
       "\n",
       "       PTS Position  Year  \n",
       "0     30.0        1  1950  \n",
       "1     27.0        2  1950  \n",
       "2     24.0        3  1950  \n",
       "3     13.0        4  1950  \n",
       "4     11.0        5  1950  \n",
       "...    ...      ...   ...  \n",
       "1568   1.0       17  2020  \n",
       "1569   0.0       18  2020  \n",
       "1570   0.0       19  2020  \n",
       "1571   0.0       20  2020  \n",
       "1572   0.0       21  2020  \n",
       "\n",
       "[1573 rows x 7 columns]"
      ]
     },
     "execution_count": 19,
     "metadata": {},
     "output_type": "execute_result"
    }
   ],
   "source": [
    "f1data = f1data[[\"Driver\", \"Driver_ID\", \"Team\", \"Nationality\", \"PTS\", \"Position\", \"Year\"]]\n",
    "f1data"
   ]
  },
  {
   "cell_type": "markdown",
   "metadata": {
    "tags": []
   },
   "source": [
    "## Milestone 3, Task 3"
   ]
  },
  {
   "cell_type": "code",
   "execution_count": 20,
   "metadata": {},
   "outputs": [
    {
     "data": {
      "text/html": [
       "<div>\n",
       "<style scoped>\n",
       "    .dataframe tbody tr th:only-of-type {\n",
       "        vertical-align: middle;\n",
       "    }\n",
       "\n",
       "    .dataframe tbody tr th {\n",
       "        vertical-align: top;\n",
       "    }\n",
       "\n",
       "    .dataframe thead th {\n",
       "        text-align: right;\n",
       "    }\n",
       "</style>\n",
       "<table border=\"1\" class=\"dataframe\">\n",
       "  <thead>\n",
       "    <tr style=\"text-align: right;\">\n",
       "      <th></th>\n",
       "      <th>Driver</th>\n",
       "      <th>Driver_ID</th>\n",
       "      <th>Team</th>\n",
       "      <th>Nationality</th>\n",
       "      <th>PTS</th>\n",
       "      <th>Position</th>\n",
       "      <th>Year</th>\n",
       "    </tr>\n",
       "  </thead>\n",
       "  <tbody>\n",
       "    <tr>\n",
       "      <th>0</th>\n",
       "      <td>Nino Farina</td>\n",
       "      <td>FAR</td>\n",
       "      <td>Alfa Romeo</td>\n",
       "      <td>ITA</td>\n",
       "      <td>30.0</td>\n",
       "      <td>1</td>\n",
       "      <td>1950</td>\n",
       "    </tr>\n",
       "    <tr>\n",
       "      <th>1</th>\n",
       "      <td>Juan Manuel Fangio</td>\n",
       "      <td>FAN</td>\n",
       "      <td>Alfa Romeo</td>\n",
       "      <td>ARG</td>\n",
       "      <td>27.0</td>\n",
       "      <td>2</td>\n",
       "      <td>1950</td>\n",
       "    </tr>\n",
       "    <tr>\n",
       "      <th>2</th>\n",
       "      <td>Luigi Fagioli</td>\n",
       "      <td>FAG</td>\n",
       "      <td>Alfa Romeo</td>\n",
       "      <td>ITA</td>\n",
       "      <td>24.0</td>\n",
       "      <td>3</td>\n",
       "      <td>1950</td>\n",
       "    </tr>\n",
       "    <tr>\n",
       "      <th>3</th>\n",
       "      <td>Louis Rosier</td>\n",
       "      <td>ROS</td>\n",
       "      <td>Talbot-Lago</td>\n",
       "      <td>FRA</td>\n",
       "      <td>13.0</td>\n",
       "      <td>4</td>\n",
       "      <td>1950</td>\n",
       "    </tr>\n",
       "    <tr>\n",
       "      <th>4</th>\n",
       "      <td>Alberto Ascari</td>\n",
       "      <td>ASC</td>\n",
       "      <td>Ferrari</td>\n",
       "      <td>ITA</td>\n",
       "      <td>11.0</td>\n",
       "      <td>5</td>\n",
       "      <td>1950</td>\n",
       "    </tr>\n",
       "    <tr>\n",
       "      <th>...</th>\n",
       "      <td>...</td>\n",
       "      <td>...</td>\n",
       "      <td>...</td>\n",
       "      <td>...</td>\n",
       "      <td>...</td>\n",
       "      <td>...</td>\n",
       "      <td>...</td>\n",
       "    </tr>\n",
       "    <tr>\n",
       "      <th>1568</th>\n",
       "      <td>Kevin Magnussen</td>\n",
       "      <td>MAG</td>\n",
       "      <td>Haas Ferrari</td>\n",
       "      <td>DEN</td>\n",
       "      <td>1.0</td>\n",
       "      <td>17</td>\n",
       "      <td>2020</td>\n",
       "    </tr>\n",
       "    <tr>\n",
       "      <th>1569</th>\n",
       "      <td>Kimi Räikkönen</td>\n",
       "      <td>RAI</td>\n",
       "      <td>Alfa Romeo Racing Ferrari</td>\n",
       "      <td>FIN</td>\n",
       "      <td>0.0</td>\n",
       "      <td>18</td>\n",
       "      <td>2020</td>\n",
       "    </tr>\n",
       "    <tr>\n",
       "      <th>1570</th>\n",
       "      <td>Nicholas Latifi</td>\n",
       "      <td>LAT</td>\n",
       "      <td>Williams Mercedes</td>\n",
       "      <td>CAN</td>\n",
       "      <td>0.0</td>\n",
       "      <td>19</td>\n",
       "      <td>2020</td>\n",
       "    </tr>\n",
       "    <tr>\n",
       "      <th>1571</th>\n",
       "      <td>George Russell</td>\n",
       "      <td>RUS</td>\n",
       "      <td>Williams Mercedes</td>\n",
       "      <td>GBR</td>\n",
       "      <td>0.0</td>\n",
       "      <td>20</td>\n",
       "      <td>2020</td>\n",
       "    </tr>\n",
       "    <tr>\n",
       "      <th>1572</th>\n",
       "      <td>Romain Grosjean</td>\n",
       "      <td>GRO</td>\n",
       "      <td>Haas Ferrari</td>\n",
       "      <td>FRA</td>\n",
       "      <td>0.0</td>\n",
       "      <td>21</td>\n",
       "      <td>2020</td>\n",
       "    </tr>\n",
       "  </tbody>\n",
       "</table>\n",
       "<p>1573 rows × 7 columns</p>\n",
       "</div>"
      ],
      "text/plain": [
       "                   Driver Driver_ID                       Team Nationality  \\\n",
       "0            Nino Farina        FAR                 Alfa Romeo         ITA   \n",
       "1     Juan Manuel Fangio        FAN                 Alfa Romeo         ARG   \n",
       "2          Luigi Fagioli        FAG                 Alfa Romeo         ITA   \n",
       "3           Louis Rosier        ROS                Talbot-Lago         FRA   \n",
       "4         Alberto Ascari        ASC                    Ferrari         ITA   \n",
       "...                   ...       ...                        ...         ...   \n",
       "1568     Kevin Magnussen        MAG               Haas Ferrari         DEN   \n",
       "1569      Kimi Räikkönen        RAI  Alfa Romeo Racing Ferrari         FIN   \n",
       "1570     Nicholas Latifi        LAT          Williams Mercedes         CAN   \n",
       "1571      George Russell        RUS          Williams Mercedes         GBR   \n",
       "1572     Romain Grosjean        GRO               Haas Ferrari         FRA   \n",
       "\n",
       "       PTS Position  Year  \n",
       "0     30.0        1  1950  \n",
       "1     27.0        2  1950  \n",
       "2     24.0        3  1950  \n",
       "3     13.0        4  1950  \n",
       "4     11.0        5  1950  \n",
       "...    ...      ...   ...  \n",
       "1568   1.0       17  2020  \n",
       "1569   0.0       18  2020  \n",
       "1570   0.0       19  2020  \n",
       "1571   0.0       20  2020  \n",
       "1572   0.0       21  2020  \n",
       "\n",
       "[1573 rows x 7 columns]"
      ]
     },
     "execution_count": 20,
     "metadata": {},
     "output_type": "execute_result"
    }
   ],
   "source": [
    "def load_and_process(csv_file):\n",
    "\n",
    "    # Method Chain 1 (Load data and deal with missing data)\n",
    "\n",
    "    df1 = (\n",
    "        pd.read_csv(csv_file)\n",
    "        .rename(columns={\"Car\": \"Team\", \"Pos\": \"Position\"})\n",
    "        .fillna(\"Independant\")\n",
    "        .replace([\"Kimi RÃ¤ikkÃ¶nen RAI\"],\"Kimi Räikkönen RAI\")\n",
    "        \n",
    "        )\n",
    "\n",
    "    # Method Chain 2 (Create new columns, drop others, and do processing)\n",
    "\n",
    "    df2 = (\n",
    "        df1\n",
    "        .assign(Driver_ID = df1[\"Driver\"].str[-3:],Driver2 = df1[\"Driver\"].str[:-3])\n",
    "        .drop(columns=[\"Driver\"])\n",
    "        .rename(columns={\"Driver2\": \"Driver\"})\n",
    "        [[\"Driver\", \"Driver_ID\", \"Team\", \"Nationality\", \"PTS\", \"Position\", \"Year\"]]\n",
    "      )\n",
    "\n",
    "    # Make sure to return the latest dataframe\n",
    "\n",
    "    return df2 \n",
    "\n",
    "\n",
    "load_and_process(\"../data/raw/f1data.csv\")"
   ]
  }
 ],
 "metadata": {
  "kernelspec": {
   "display_name": "Python 3 (ipykernel)",
   "language": "python",
   "name": "python3"
  },
  "language_info": {
   "codemirror_mode": {
    "name": "ipython",
    "version": 3
   },
   "file_extension": ".py",
   "mimetype": "text/x-python",
   "name": "python",
   "nbconvert_exporter": "python",
   "pygments_lexer": "ipython3",
   "version": "3.9.5"
  }
 },
 "nbformat": 4,
 "nbformat_minor": 4
}
