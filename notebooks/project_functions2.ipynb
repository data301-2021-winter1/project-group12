{
 "cells": [
  {
   "cell_type": "code",
   "execution_count": 1,
   "id": "c98dddc7-7935-4b2e-a808-65e9040b0716",
   "metadata": {},
   "outputs": [],
   "source": [
    "import pandas as pd\n",
    "import numpy as np"
   ]
  },
  {
   "cell_type": "code",
   "execution_count": 2,
   "id": "958a561b-ee5b-4710-b1fa-b195beb4a7f7",
   "metadata": {},
   "outputs": [],
   "source": [
    "def load_and_process(csv_file):\n",
    "\n",
    "    # Method Chain 1 (Load data and deal with missing data)\n",
    "\n",
    "    df1 = (\n",
    "        pd.read_csv(csv_file)\n",
    "        .rename(columns={\"Car\": \"Team\", \"Pos\": \"Position\"})\n",
    "        .fillna(\"Independant\")\n",
    "        .replace([\"Kimi RÃ¤ikkÃ¶nen RAI\"],\"Kimi Räikkönen RAI\")\n",
    "        \n",
    "        )\n",
    "\n",
    "    # Method Chain 2 (Create new columns, drop others, and do processing)\n",
    "\n",
    "    df2 = (\n",
    "        df1\n",
    "        .assign(Driver_ID = df1[\"Driver\"].str[-3:],Driver2 = df1[\"Driver\"].str[:-3])\n",
    "        .drop(columns=[\"Driver\"])\n",
    "        .rename(columns={\"Driver2\": \"Driver\"})\n",
    "        [[\"Driver\", \"Driver_ID\", \"Team\", \"Nationality\", \"PTS\", \"Position\", \"Year\"]]\n",
    "      )\n",
    "\n",
    "    # Make sure to return the latest dataframe\n",
    "\n",
    "    return df2 "
   ]
  }
 ],
 "metadata": {
  "kernelspec": {
   "display_name": "Python 3 (ipykernel)",
   "language": "python",
   "name": "python3"
  },
  "language_info": {
   "codemirror_mode": {
    "name": "ipython",
    "version": 3
   },
   "file_extension": ".py",
   "mimetype": "text/x-python",
   "name": "python",
   "nbconvert_exporter": "python",
   "pygments_lexer": "ipython3",
   "version": "3.9.5"
  }
 },
 "nbformat": 4,
 "nbformat_minor": 5
}
