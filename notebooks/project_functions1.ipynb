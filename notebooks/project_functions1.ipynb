{
 "cells": [
  {
   "cell_type": "code",
   "execution_count": 1,
   "id": "c76ab23d-5f93-451a-85da-60551c7c776d",
   "metadata": {},
   "outputs": [],
   "source": [
    "import pandas as pd\n",
    "import numpy as np"
   ]
  },
  {
   "cell_type": "code",
   "execution_count": 2,
   "id": "631a517e-69a4-4891-bc49-8569be795201",
   "metadata": {},
   "outputs": [],
   "source": [
    "def load_and_process(url_or_path_to_csv_file):\n",
    "\n",
    "    # Method Chain 1 (Load data and deal with missing data)\n",
    "\n",
    "    df1 = (\n",
    "          pd.read_csv(url_or_path_to_csv_file)\n",
    "          .rename(columns={\"Car\":\"Team\",\"Pos\":\"Position\",\"PTS\":\"Points\"})\n",
    "          .fillna(\"Independent\")\n",
    "          .replace(['Kimi RÃ¤ikkÃ¶nen RAI'],'Kimi Räikkönen RAI')\n",
    "      )\n",
    "\n",
    "    df2 = (\n",
    "        df1\n",
    "        .assign(Driver_ID = df1[\"Driver\"].str[-3:],Driver2 = df1[\"Driver\"].str[:-3])\n",
    "        .drop(columns=[\"Driver\"])\n",
    "        .rename(columns={\"Driver2\": \"Driver\"})\n",
    "      )\n",
    "\n",
    "    return df2"
   ]
  },
  {
   "cell_type": "code",
   "execution_count": null,
   "id": "f1a55f3e-dd61-47a4-91a5-4ea603326285",
   "metadata": {},
   "outputs": [],
   "source": []
  }
 ],
 "metadata": {
  "kernelspec": {
   "display_name": "Python 3",
   "language": "python",
   "name": "python3"
  },
  "language_info": {
   "codemirror_mode": {
    "name": "ipython",
    "version": 3
   },
   "file_extension": ".py",
   "mimetype": "text/x-python",
   "name": "python",
   "nbconvert_exporter": "python",
   "pygments_lexer": "ipython3",
   "version": "3.9.5"
  }
 },
 "nbformat": 4,
 "nbformat_minor": 5
}
